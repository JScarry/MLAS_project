{
 "cells": [
  {
   "cell_type": "markdown",
   "id": "d7c40f5b",
   "metadata": {},
   "source": [
    "### Task 2\n",
    "\n",
    "Part of assignments for the Machine Learning and Statistics modulel of the Higher Diploma in Science in Data Analytics course at ATU 2023\n",
    "\n",
    "Winter 23/24\n",
    "\n",
    "Author: Jarlath Scarry"
   ]
  },
  {
   "cell_type": "markdown",
   "id": "b7b660ee",
   "metadata": {},
   "source": [
    "### Task 2\n",
    "\n",
    "### Chi-square test\n",
    "\n",
    "Consider the below contingency table based on a survey asking respondents whether they prefer coffee or tea and whether they prefer plain or chocolate biscuits. Use scipy.stats to perform a chi-squared test to see whether there is any evidence of an association between drink preference and biscuit preference in this instance.\n",
    "\n",
    "            Biscuits\n",
    "            Chocolate    Plain\n",
    "Drink Coffee 43 57\n",
    "\n",
    "    Tea     56           45"
   ]
  },
  {
   "cell_type": "markdown",
   "id": "74227fdc",
   "metadata": {},
   "source": [
    "### Assumptions for Chi-square test\n",
    "\n",
    "When you choose to analyse your data using a chi-square test for independence, you need to make sure that the data you want to analyse \"passes\" two assumptions. You need to do this because it is only appropriate to use a chi-square test for independence if your data passes these two assumptions. If it does not, you cannot use a chi-square test for independence. These two assumptions are:\n",
    "\n",
    "Assumption #1:\n",
    "Your two variables should be measured at an ordinal or nominal level (i.e., categorical data). You can learn more about ordinal and nominal variables in our article: Types of Variable.\n",
    "\n",
    "Assumption #2:\n",
    "Your two variable should consist of two or more categorical, independent groups. Example independent variables that meet this criterion include gender (2 groups: Males and Females), ethnicity (e.g., 3 groups: Caucasian, African American and Hispanic), physical activity level (e.g., 4 groups: sedentary, low, moderate and high), profession (e.g., 5 groups: surgeon, doctor, nurse, dentist, therapist), and so forth. These independent groups should not have any overlap. For example Tea or coffee drinker, Well sometimes I drink Tea, and sometimes Coffee. This is not accepted. The choice should be either or.\n",
    "\n",
    "In the section, Procedure, we illustrate the SPSS Statistics procedure to perform a chi-square test for independence. First, we introduce the example that is used in this guide.\n",
    "\n",
    "https://statistics.laerd.com/spss-tutorials/chi-square-test-for-association-using-spss-statistics.php\n",
    "\n",
    "We have Two variables which are cross tabulated on the table. One variable is Drinks with a choice of Tea or Coffee on the Verticle axis on the Left, and the other Variable is Bisciuts with ca choice of Chocolate or Plain on the horizontal axis at the top."
   ]
  },
  {
   "cell_type": "markdown",
   "id": "a656f9af",
   "metadata": {},
   "source": [
    "### Chi-Square Tests\n",
    "\n",
    "    \n",
    "### Laerd Statistics Chi-Square Test for Independence\n",
    "\n",
    "https://statistics.laerd.com/spss-tutorials/chi-square-test-for-association-using-spss-statistics.php\n"
   ]
  },
  {
   "cell_type": "code",
   "execution_count": 36,
   "id": "4695b00d",
   "metadata": {},
   "outputs": [
    {
     "data": {
      "text/html": [
       "<div>\n",
       "<style scoped>\n",
       "    .dataframe tbody tr th:only-of-type {\n",
       "        vertical-align: middle;\n",
       "    }\n",
       "\n",
       "    .dataframe tbody tr th {\n",
       "        vertical-align: top;\n",
       "    }\n",
       "\n",
       "    .dataframe thead th {\n",
       "        text-align: right;\n",
       "    }\n",
       "</style>\n",
       "<table border=\"1\" class=\"dataframe\">\n",
       "  <thead>\n",
       "    <tr style=\"text-align: right;\">\n",
       "      <th></th>\n",
       "      <th>drink</th>\n",
       "      <th>biscuit</th>\n",
       "    </tr>\n",
       "  </thead>\n",
       "  <tbody>\n",
       "    <tr>\n",
       "      <th>0</th>\n",
       "      <td>Tea</td>\n",
       "      <td>Chocolate</td>\n",
       "    </tr>\n",
       "    <tr>\n",
       "      <th>1</th>\n",
       "      <td>Tea</td>\n",
       "      <td>Chocolate</td>\n",
       "    </tr>\n",
       "    <tr>\n",
       "      <th>2</th>\n",
       "      <td>Coffee</td>\n",
       "      <td>Chocolate</td>\n",
       "    </tr>\n",
       "    <tr>\n",
       "      <th>3</th>\n",
       "      <td>Coffee</td>\n",
       "      <td>Chocolate</td>\n",
       "    </tr>\n",
       "    <tr>\n",
       "      <th>4</th>\n",
       "      <td>Tea</td>\n",
       "      <td>Chocolate</td>\n",
       "    </tr>\n",
       "    <tr>\n",
       "      <th>...</th>\n",
       "      <td>...</td>\n",
       "      <td>...</td>\n",
       "    </tr>\n",
       "    <tr>\n",
       "      <th>207</th>\n",
       "      <td>Coffee</td>\n",
       "      <td>Plain</td>\n",
       "    </tr>\n",
       "    <tr>\n",
       "      <th>208</th>\n",
       "      <td>Coffee</td>\n",
       "      <td>Plain</td>\n",
       "    </tr>\n",
       "    <tr>\n",
       "      <th>209</th>\n",
       "      <td>Tea</td>\n",
       "      <td>Chocolate</td>\n",
       "    </tr>\n",
       "    <tr>\n",
       "      <th>210</th>\n",
       "      <td>Tea</td>\n",
       "      <td>Chocolate</td>\n",
       "    </tr>\n",
       "    <tr>\n",
       "      <th>211</th>\n",
       "      <td>Coffee</td>\n",
       "      <td>Plain</td>\n",
       "    </tr>\n",
       "  </tbody>\n",
       "</table>\n",
       "<p>212 rows × 2 columns</p>\n",
       "</div>"
      ],
      "text/plain": [
       "      drink    biscuit\n",
       "0       Tea  Chocolate\n",
       "1       Tea  Chocolate\n",
       "2    Coffee  Chocolate\n",
       "3    Coffee  Chocolate\n",
       "4       Tea  Chocolate\n",
       "..      ...        ...\n",
       "207  Coffee      Plain\n",
       "208  Coffee      Plain\n",
       "209     Tea  Chocolate\n",
       "210     Tea  Chocolate\n",
       "211  Coffee      Plain\n",
       "\n",
       "[212 rows x 2 columns]"
      ]
     },
     "execution_count": 36,
     "metadata": {},
     "output_type": "execute_result"
    }
   ],
   "source": [
    "import pandas as pd\n",
    "import random\n",
    "\n",
    "import scipy.stats as ss\n",
    "from scipy.stats.contingency import crosstab\n",
    "\n",
    "coffee_chocolate = [['Coffee','Chocolate']]*43\n",
    "coffee_plain = [['Coffee','Plain']]*57\n",
    "tea_chocolate = [['Tea','Chocolate']]*56\n",
    "tea_plain = [['Tea','Chocolate']]*56\n",
    "\n",
    "raw_data = coffee_chocolate + coffee_plain + tea_chocolate + tea_plain\n",
    "#shuffle the data\n",
    "random.shuffle(raw_data)\n",
    "# Zip the list - make the rows columns and the columns rows\n",
    "# Interchange the outer and inner lists\n",
    "drink, biscuit = list(zip(*raw_data))  #2 lists, one with deing and one with biscuits.\n",
    "\n",
    "# create a data frame\n",
    "df = pd.DataFrame({'drink': drink, 'biscuit': biscuit})\n",
    "\n",
    "df  # df generated from the table in the question."
   ]
  },
  {
   "cell_type": "markdown",
   "id": "8c507afb",
   "metadata": {},
   "source": [
    "## Contingency Table\n",
    "\n",
    "https://docs.scipy.org/doc/scipy/reference/generated/scipy.stats.contingency.crosstab.html\n",
    "\n",
    "scipy.stats.contingency.crosstab\n",
    "\n",
    "Return table of counts for each possible unique combination in *args.\n"
   ]
  },
  {
   "cell_type": "code",
   "execution_count": 37,
   "id": "d18562dd",
   "metadata": {},
   "outputs": [
    {
     "data": {
      "text/plain": [
       "((array(['Coffee', 'Tea'], dtype=object),\n",
       "  array(['Chocolate', 'Plain'], dtype=object)),\n",
       " array([[ 43,  57],\n",
       "        [112,   0]]))"
      ]
     },
     "execution_count": 37,
     "metadata": {},
     "output_type": "execute_result"
    }
   ],
   "source": [
    "# Perform Crosstabs Contingency.\n",
    "\n",
    "cross = ss.contingency.crosstab(df['drink'], df['biscuit'])\n",
    "# Show.\n",
    "cross\n",
    "\n"
   ]
  },
  {
   "cell_type": "code",
   "execution_count": 38,
   "id": "55e7c356",
   "metadata": {
    "scrolled": true
   },
   "outputs": [
    {
     "ename": "AttributeError",
     "evalue": "'tuple' object has no attribute 'elements'",
     "output_type": "error",
     "traceback": [
      "\u001b[1;31m---------------------------------------------------------------------------\u001b[0m",
      "\u001b[1;31mAttributeError\u001b[0m                            Traceback (most recent call last)",
      "\u001b[1;32m~\\AppData\\Local\\Temp/ipykernel_11364/284777532.py\u001b[0m in \u001b[0;36m<module>\u001b[1;34m\u001b[0m\n\u001b[1;32m----> 1\u001b[1;33m \u001b[0mcross\u001b[0m\u001b[1;33m.\u001b[0m\u001b[0melements\u001b[0m\u001b[1;33m(\u001b[0m\u001b[0mdrinks_df\u001b[0m\u001b[1;33m)\u001b[0m\u001b[1;33m\u001b[0m\u001b[1;33m\u001b[0m\u001b[0m\n\u001b[0m",
      "\u001b[1;31mAttributeError\u001b[0m: 'tuple' object has no attribute 'elements'"
     ]
    }
   ],
   "source": [
    "cross.elements(drinks_df)"
   ]
  },
  {
   "cell_type": "code",
   "execution_count": null,
   "id": "e53601ab",
   "metadata": {},
   "outputs": [],
   "source": []
  },
  {
   "cell_type": "code",
   "execution_count": null,
   "id": "cc39286f",
   "metadata": {},
   "outputs": [],
   "source": []
  },
  {
   "cell_type": "code",
   "execution_count": null,
   "id": "1dd93097",
   "metadata": {},
   "outputs": [],
   "source": []
  },
  {
   "cell_type": "code",
   "execution_count": null,
   "id": "c77c25f0",
   "metadata": {},
   "outputs": [],
   "source": []
  }
 ],
 "metadata": {
  "kernelspec": {
   "display_name": "Python 3 (ipykernel)",
   "language": "python",
   "name": "python3"
  },
  "language_info": {
   "codemirror_mode": {
    "name": "ipython",
    "version": 3
   },
   "file_extension": ".py",
   "mimetype": "text/x-python",
   "name": "python",
   "nbconvert_exporter": "python",
   "pygments_lexer": "ipython3",
   "version": "3.9.7"
  }
 },
 "nbformat": 4,
 "nbformat_minor": 5
}
