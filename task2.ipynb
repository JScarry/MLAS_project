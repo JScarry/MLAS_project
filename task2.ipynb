{
 "cells": [
  {
   "cell_type": "markdown",
   "id": "2c29cc66",
   "metadata": {},
   "source": [
    "# Task 2\n",
    "\n",
    "Part of assignments for the Machine Learning and Statistics modulel of the Higher Diploma in Science in Data Analytics course at ATU 2023\n",
    "\n",
    "Winter 23/24\n",
    "\n",
    "Author: Jarlath Scarry"
   ]
  },
  {
   "cell_type": "markdown",
   "id": "23a1c070",
   "metadata": {},
   "source": [
    "### Task 2\n",
    "Consider the below contingency table based on a survey asking\n",
    "respondents whether they prefer coffee or tea and whether they\n",
    "prefer plain or chocolate biscuits. Use scipy.stats to perform\n",
    "a chi-squared test to see whether there is any evidence of an association between drink preference and biscuit preference in this\n",
    "instance."
   ]
  },
  {
   "cell_type": "markdown",
   "id": "29816865",
   "metadata": {},
   "source": [
    "                Biscuits\n",
    "                Chocolate    Plain\n",
    "Drink  Coffee    43           57\n",
    "\n",
    "        Tea     56           45"
   ]
  },
  {
   "cell_type": "markdown",
   "id": "d33b7036",
   "metadata": {},
   "source": [
    "### Assumptions\n",
    "When you choose to analyse your data using a chi-square test for independence, you need to make sure that the data you want to analyse \"passes\" two assumptions. You need to do this because it is only appropriate to use a chi-square test for independence if your data passes these two assumptions. If it does not, you cannot use a chi-square test for independence. These two assumptions are:\n",
    "\n",
    "#### Assumption #1: \n",
    "\n",
    "Your two variables should be measured at an ordinal or nominal level (i.e., categorical data). You can learn more about ordinal and nominal variables in our article: Types of Variable.\n",
    "\n",
    "#### Assumption #2: \n",
    "\n",
    "Your two variable should consist of two or more categorical, independent groups. Example independent variables that meet this criterion include gender (2 groups: Males and Females), ethnicity (e.g., 3 groups: Caucasian, African American and Hispanic), physical activity level (e.g., 4 groups: sedentary, low, moderate and high), profession (e.g., 5 groups: surgeon, doctor, nurse, dentist, therapist), and so forth.\n",
    "\n",
    "\n",
    "In the section, Procedure, we illustrate the SPSS Statistics procedure to perform a chi-square test for independence. First, we introduce the example that is used in this guide.\n",
    "\n",
    "https://statistics.laerd.com/spss-tutorials/chi-square-test-for-association-using-spss-statistics.php"
   ]
  },
  {
   "cell_type": "code",
   "execution_count": null,
   "id": "c3ab0a62",
   "metadata": {},
   "outputs": [],
   "source": [
    "### References\n",
    "\n",
    "\n",
    "    "
   ]
  }
 ],
 "metadata": {
  "kernelspec": {
   "display_name": "Python 3 (ipykernel)",
   "language": "python",
   "name": "python3"
  },
  "language_info": {
   "codemirror_mode": {
    "name": "ipython",
    "version": 3
   },
   "file_extension": ".py",
   "mimetype": "text/x-python",
   "name": "python",
   "nbconvert_exporter": "python",
   "pygments_lexer": "ipython3",
   "version": "3.9.7"
  }
 },
 "nbformat": 4,
 "nbformat_minor": 5
}
