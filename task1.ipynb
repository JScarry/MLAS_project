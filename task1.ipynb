{
 "cells": [
  {
   "cell_type": "markdown",
   "id": "3ba1356f",
   "metadata": {},
   "source": [
    "# Task 1\n",
    "\n",
    "Part of assignments for the Machine Learning and Statistics modulel of the Higher Diploma in Science in Data Analytics course at ATU 2023\n",
    "\n",
    "Winter 23/24\n",
    "\n",
    "Author: Jarlath Scarry"
   ]
  },
  {
   "cell_type": "markdown",
   "id": "2400e08c",
   "metadata": {},
   "source": [
    "## Task 1\n",
    "\n",
    "> Square roots are difficult to calculate. In Python, you typically use the power operator (a double asterisk) or a package such as `math`. In this task, you should write a function `sqrt(x)` to approximate the square root of a floating point number x without using the power operator or a package.\n",
    "\n",
    "> Rather, you should use the Newton’s method. Start with an initial guess for the square root called $z0$. You then repeatedly improve it using the following formula, until the difference between some previous guess $zi$ and the next $z{i+1}$ is less than some threshold, say 0.01\n",
    "\n",
    "$$z_{i+1} = z_i - \\frac{z_i  ×  z_i - x}{2z_i}$$"
   ]
  },
  {
   "cell_type": "markdown",
   "id": "707e7d46",
   "metadata": {},
   "source": [
    "###  Ways to find square root in python. \n",
    "\n",
    "The easiest way is to use a special operator. One such method is to call the `math` library and use `math.sqrt(x)`. Another is to raise the number to the power of a half. An easy way to do this in python is `x**0.5`. See an example of both of these two methods below.\n",
    "In this exercise we will to do this without special operators but instead using Newtons method. \n"
   ]
  },
  {
   "cell_type": "code",
   "execution_count": 1,
   "id": "72447e2b",
   "metadata": {},
   "outputs": [
    {
     "data": {
      "text/plain": [
       "4.0"
      ]
     },
     "execution_count": 1,
     "metadata": {},
     "output_type": "execute_result"
    }
   ],
   "source": [
    "import math\n",
    "x = 16\n",
    "math.sqrt(x)"
   ]
  },
  {
   "cell_type": "code",
   "execution_count": 2,
   "id": "403ad7ae",
   "metadata": {},
   "outputs": [
    {
     "data": {
      "text/plain": [
       "2.0"
      ]
     },
     "execution_count": 2,
     "metadata": {},
     "output_type": "execute_result"
    }
   ],
   "source": [
    "4**0.5"
   ]
  },
  {
   "cell_type": "markdown",
   "id": "bb6b5007",
   "metadata": {},
   "source": [
    "### Coding Newtons method\n",
    "Lets put this formula into code. If we take x as the number and our output should be the Square root of x\n",
    "\n",
    "$$z_{i+1} = z_i - \\frac{z_i  ×  z_i - x}{2z_i}$$"
   ]
  },
  {
   "cell_type": "code",
   "execution_count": 53,
   "id": "87b15bf4",
   "metadata": {},
   "outputs": [],
   "source": [
    "# The number that we want to calculate the square root of\n",
    "x= 16\n",
    "# Our initial guess for the square root. Lets set it as a floating point number, since our result may not be a whole number. \n",
    "z = 2.0"
   ]
  },
  {
   "cell_type": "code",
   "execution_count": 59,
   "id": "aacd1759",
   "metadata": {},
   "outputs": [
    {
     "data": {
      "text/plain": [
       "4.0"
      ]
     },
     "execution_count": 59,
     "metadata": {},
     "output_type": "execute_result"
    }
   ],
   "source": [
    "\n",
    "\n",
    "# Newtons method for a better approximation \n",
    "#Each time we run this line of code it calculated a better result. \n",
    "#If we re-running it 6 times we have a good estimation of the answer.\n",
    "#results:\n",
    "         #1st = 5\n",
    "         #2nd = 4.1\n",
    "         #3rd = 4.001219512195122\n",
    "         #4th = 4.0000001858445895\n",
    "         #5th = 4.000000000000004\n",
    "         #6th = 4\n",
    "z = z -(((z*z)-x)/ (2*z))\n",
    "\n",
    "z"
   ]
  },
  {
   "cell_type": "code",
   "execution_count": 62,
   "id": "f29d125a",
   "metadata": {},
   "outputs": [],
   "source": [
    "#Put the code into a loop to run 10 times\n",
    "def sqrt(x):\n",
    "    #initial guess for the square root\n",
    "    z = x/4.0\n",
    "    #Loop newtons method 10 times until we get a good approximation.\n",
    "    for i in range(10):\n",
    "        # Newtons method for a better approximation\n",
    "        z = z -(((z*z)-x)/ (2*z))\n",
    "        print(z)\n",
    "        print ((z*z)-x)\n",
    "    # z should now be a good approximation\n",
    "    return z   \n",
    "\n"
   ]
  },
  {
   "cell_type": "code",
   "execution_count": 63,
   "id": "231ebabc",
   "metadata": {
    "scrolled": true
   },
   "outputs": [
    {
     "name": "stdout",
     "output_type": "stream",
     "text": [
      "3.875\n",
      "0.015625\n",
      "3.872983870967742\n",
      "4.06477627556967e-06\n",
      "3.8729833462074525\n",
      "2.7711166694643907e-13\n",
      "3.8729833462074166\n",
      "-1.7763568394002505e-15\n",
      "3.872983346207417\n",
      "1.7763568394002505e-15\n",
      "3.8729833462074166\n",
      "-1.7763568394002505e-15\n",
      "3.872983346207417\n",
      "1.7763568394002505e-15\n",
      "3.8729833462074166\n",
      "-1.7763568394002505e-15\n",
      "3.872983346207417\n",
      "1.7763568394002505e-15\n",
      "3.8729833462074166\n",
      "-1.7763568394002505e-15\n"
     ]
    },
    {
     "data": {
      "text/plain": [
       "3.8729833462074166"
      ]
     },
     "execution_count": 63,
     "metadata": {},
     "output_type": "execute_result"
    }
   ],
   "source": [
    "#call the function and test it on 15. \n",
    "#I also print the results and the calue of ((z*z)-x) which we will look at later.\n",
    "sqrt(15)"
   ]
  },
  {
   "cell_type": "code",
   "execution_count": 65,
   "id": "7856b3e9",
   "metadata": {},
   "outputs": [
    {
     "data": {
      "text/plain": [
       "3.872983346207417"
      ]
     },
     "execution_count": 65,
     "metadata": {},
     "output_type": "execute_result"
    }
   ],
   "source": [
    "#check pythons value for square root of 15 \n",
    "15**0.5"
   ]
  },
  {
   "cell_type": "markdown",
   "id": "bc618ab6",
   "metadata": {},
   "source": [
    "### Improving the code to be more efficent\n",
    "\n",
    "Changing the for loop to a while loop. This keeps looping while `(z*z)-x)` is not very close to zero. The previous code will loop 10 times even if result is achieved after 6 loops. This improvment will stop code when a \"good\" result is achieved.  "
   ]
  },
  {
   "cell_type": "code",
   "execution_count": 66,
   "id": "d2bea490",
   "metadata": {},
   "outputs": [],
   "source": [
    "def sqrt(x):\n",
    "    #initial guess for the square root\n",
    "    z = x/4.0\n",
    "    #Loop while ((z*z)-x) is not very colse to 0\n",
    "    while ((z*z)-x)>1e-10 or ((z*z)-x)< -1e-10:\n",
    "        # Newtons method for a better approximation\n",
    "        z = z -(((z*z)-x)/ (2*z))\n",
    "    # z should now be a good approximation\n",
    "    return z   "
   ]
  },
  {
   "cell_type": "code",
   "execution_count": 67,
   "id": "6d8c145d",
   "metadata": {},
   "outputs": [
    {
     "data": {
      "text/plain": [
       "3.8729833462074525"
      ]
     },
     "execution_count": 67,
     "metadata": {},
     "output_type": "execute_result"
    }
   ],
   "source": [
    "#square root of 15. Result is very close to python 15**0.5 method.\n",
    "sqrt(15)"
   ]
  },
  {
   "cell_type": "markdown",
   "id": "a0a9b378",
   "metadata": {},
   "source": [
    "### Notes"
   ]
  },
  {
   "cell_type": "markdown",
   "id": "cf93e3e0",
   "metadata": {},
   "source": [
    "## End"
   ]
  },
  {
   "cell_type": "code",
   "execution_count": null,
   "id": "069db6bd",
   "metadata": {},
   "outputs": [],
   "source": []
  }
 ],
 "metadata": {
  "kernelspec": {
   "display_name": "Python 3 (ipykernel)",
   "language": "python",
   "name": "python3"
  },
  "language_info": {
   "codemirror_mode": {
    "name": "ipython",
    "version": 3
   },
   "file_extension": ".py",
   "mimetype": "text/x-python",
   "name": "python",
   "nbconvert_exporter": "python",
   "pygments_lexer": "ipython3",
   "version": "3.9.7"
  }
 },
 "nbformat": 4,
 "nbformat_minor": 5
}
