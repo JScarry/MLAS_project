{
 "cells": [
  {
   "cell_type": "markdown",
   "id": "cb824530",
   "metadata": {},
   "source": [
    "project\n",
    "\n",
    "Assessment\n",
    "Machine Learning and Statistics, Winter 2023/24\n",
    "ian.mcloughlin@atu.ie\n",
    "\n",
    "\n",
    "Project\n",
    "• The project is to create a notebook exploring classification algrithms applied on the iris flower data set associated with Ronald\n",
    "A Fisher.5\n",
    "• In your notebook, you should first explain what supervised learing is and then explain what classification algorithms are.\n",
    "• Describe at least one common classification algorithm and implment it using the scikit-learn Python library.\n",
    "• Throughout your notebook, use appropriate plots, mathematical\n",
    "notation, and diagrams to explain the relevant concepts.\n",
    "\n",
    "\n",
    "What is the Iris Data set?\n",
    "The Fisher’s Iris Data set is a data set introduced by the British Biologist and Statistician Ronald Fisher in his now classic 1936 paper “The use of multiple measurements in taxonomic problems as an example of linear discriminant analysis”. It is sometimes known as the Anderson’s Iris data set because the data was collected by Edgar Anderson, who collected the majority of the data in the Gaspé Peninsula, in North Eastern Canada.\n",
    " It is a multivariate data set, meaning it has a number of mathematical or statistical variables. The data set consists of 50 samples from each of three species of Iris. Four features were measured from each sample, so a total of 150 instances with five attributes which are detailed below.\n",
    "Attributes: \n",
    "1.\tSepal length in cm\n",
    "2.\tSepal width in cm\n",
    "3.\tPetal length in cm\n",
    "4.\tPetal width in cm\n",
    "5.\tClass / Species:\n",
    "    o\tIris Setosa\n",
    "    o\tIris Versicolor\n",
    "    o\tIris Virginica\n",
    "\n",
    "The Iris data set is often used when studying data because the data and many related resources are readily available to us. The data is open source and its accuracy and its source are known, It is relatively small in size, It is divided into 3 classes and It is easily visualised. Additionally Ronald Fisher was a very prominent figures in statistics. All these factors mean it has become very popular in data science.  \n",
    "\n",
    "One flower species is linearly separable from the other two, but the other two are not linearly separable from each other. https://www.kaggle.com/uciml/iris\n",
    "\n",
    "Much of the information about the dataset in this section is collected from the following locations:\n",
    "\n",
    "Wikipedia - Iris flower data set https://en.wikipedia.org/wiki/Iris_flower_data_set\n",
    "UCI Machine Learning Repository https://archive.ics.uci.edu/ml/datasets/iris\n",
    "About Fisher’s Iris dataset https://www.angela1c.com/projects/iris_project/the-iris-dataset/\n",
    "The Mighty Iris Dataset https://braintoy.ai/2021/04/19/mighty-iris-dataset/\n",
    "\n",
    "\n",
    "\n",
    "\n"
   ]
  }
 ],
 "metadata": {
  "kernelspec": {
   "display_name": "Python 3 (ipykernel)",
   "language": "python",
   "name": "python3"
  },
  "language_info": {
   "codemirror_mode": {
    "name": "ipython",
    "version": 3
   },
   "file_extension": ".py",
   "mimetype": "text/x-python",
   "name": "python",
   "nbconvert_exporter": "python",
   "pygments_lexer": "ipython3",
   "version": "3.9.18"
  }
 },
 "nbformat": 4,
 "nbformat_minor": 5
}
