{
 "cells": [
  {
   "cell_type": "markdown",
   "id": "3c3a0509",
   "metadata": {},
   "source": [
    "### Task 3\n",
    "\n",
    "Part of assignments for the Machine Learning and Statistics modulel of the Higher Diploma in Science in Data Analytics course at ATU 2023\n",
    "\n",
    "Winter 23/24\n",
    "\n",
    "Author: Jarlath Scarry"
   ]
  },
  {
   "cell_type": "markdown",
   "id": "7b9377da",
   "metadata": {},
   "source": [
    "### Task 3\n",
    "\n",
    "Perform a t-test on the famous penguins data set to investigate\n",
    "whether there is evidence of a significant difference in the body\n",
    "mass of male and female gentoo penguins."
   ]
  },
  {
   "cell_type": "markdown",
   "id": "67b40c2c",
   "metadata": {},
   "source": [
    "#### t-Tests\n",
    "\n",
    ">A t-test is a type of statistical analysis used to compare the averages of two groups and determine whether the differences between them are more likely to arise from random chance. \n",
    "**It is any statistical hypothesis test in which the test statistic follows a Student's t-distribution under the null hypothesis.** It is most commonly applied when the test statistic would follow a normal distribution if the value of a scaling term in the test statistic were known (typically, the scaling term is unknown and is therefore a nuisance parameter). When the scaling term is estimated based on the data, the test statistic—under certain conditions—follows a Student's t distribution. The t-test's most common application is to test whether the means of two populations are different.\n",
    "\n",
    ">History\n",
    "The t-distribution, also known as Student's t-distribution, gets its name from William Sealy Gosset, who first published it in English in 1908 in the scientific journal Biometrika using the pseudonym \"Student\" because his employer preferred staff to use pen names when publishing scientific papers.\n",
    "\n",
    ">Although it was William Gosset after whom the term \"Student\" is penned, it was actually through the work of Ronald Fisher that the distribution became well known as \"Student's distribution\"\n",
    "\n",
    "[[1]](#ref1)(wikipedia.org Student's t-test, Oct 2023)"
   ]
  },
  {
   "cell_type": "markdown",
   "id": "3c45c34f",
   "metadata": {},
   "source": [
    "#### What Is a T-Distribution?\n",
    "\n",
    ">The t-distribution, also known as the Student’s t-distribution, is a type of probability distribution that is similar to the normal distribution with its bell. Unlike normal distributions, t- distribution has heavier tails, which result in a greater chance for extreme values.\n",
    "The t-distribution is used in statistics to estimate the significance of population parameters for small sample sizes or unknown variations.\n",
    "The t-distribution is the basis for computing t-tests in statistics.\n",
    "\n",
    "[[3]](#ref3) (Investopedia.com, What Is T-Distribution in Probability? How Do You Use It? Oct 2023) https://www.investopedia.com/terms/t/tdistribution.asp#toc-what-is-a-t-distribution"
   ]
  },
  {
   "cell_type": "markdown",
   "id": "db1bebbd",
   "metadata": {},
   "source": [
    "### Normal distribution\n",
    "\n",
    "Normal distribution is a probability distribution that is symmetric about the mean, showing that data near the mean are more frequent in occurrence than data far from the mean. \n",
    "In graphical form, the normal distribution appears as a \"bell curve\". \n",
    "In summary then is; The term “Normal Distribution Curve” or “Bell Curve” is used to describe the mathematical \n",
    "concept called normal distribution, sometimes referred to as Gaussian distribution. \n",
    "It refers to the shape that is created when a line is plotted using the data points \n",
    "for an item that meets the criteria of ‘Normal Distribution’. [[2]](#ref2) (Normal distribution, Wikipedia, Nov 2022)"
   ]
  },
  {
   "cell_type": "markdown",
   "id": "62fcd7c5",
   "metadata": {},
   "source": [
    "### Properties of a Normal distribution bell curve and the Area under the curve\n",
    "\n",
    "The area under the graph represents 100% of the data\n",
    "Empirical rule. Data falls within a certain number of standard deviations from the mean  \n",
    "68% =1σ (sigma)\n",
    "95% = 2σ\n",
    "99.7% = 3σ\n",
    "\n",
    "[[15]](#ref15) (Normal Distribution Definition and Properties, Prof. Essa, Nov 2015)\n",
    "\n",
    "There are a few basic properties of a normal distribution.\n",
    "\n",
    "The graph will be Symmetrical.\n",
    "\n",
    "The Mean, Mode and Median are all equal.\n",
    "\n",
    "The standard normal distribution has a mean of 0 and a variance of 1 standard deviation"
   ]
  },
  {
   "cell_type": "markdown",
   "id": "171c061d",
   "metadata": {},
   "source": [
    "### Probability density function (PDF)\n",
    "\n",
    "In probability theory, a probability density function (PDF), or density of a continuous random variable, is a function whose value at any given sample (or point) in the sample space (the set of possible values taken by the random variable) can be interpreted as providing a relative likelihood that the value of the random variable would be equal to that sample. \n",
    "\n",
    "So the PDF is used to find the probability of the random variable falling within a range of values, rather than being a specific value. \n",
    "\n",
    "[16](#ref16) (Probability Density Function, wikipedia, Jan 2023)\n",
    "\n",
    "Lets consider the probability of a womans height being exactly 1.7m?\n",
    "\n",
    "Well if we want to find somone exactly 1.700000m it would be very unlikley, infact we could say that probability is close to Zero. \n",
    "\n",
    "However, what is the probability of finding a woman around 1.7m, say we were willing to accept a height between 1.68 to 1.72m? Then we can calculate the probability based on the area under that part of the bell curve.\n",
    "\n",
    "\n",
    "![image info](https://plus.maths.org/content/sites/plus.maths.org/files/articles/2021/Prob_dist/normal_height.png)\n",
    "\n",
    "[[14]](#ref14) (mathspluss.org, Probability distributions, Oct 2023)\n",
    "***"
   ]
  },
  {
   "cell_type": "markdown",
   "id": "43be6c89",
   "metadata": {},
   "source": [
    "#### Laerd statistice t-test\n",
    "\n",
    "The independent-samples t-test (or independent t-test, for short) compares the means between two unrelated groups on the same continuous, dependent variable. \n",
    "\n",
    "For example, you could use an independent t-test to understand whether first year graduate salaries differed based on gender \n",
    "The dependent variable would be \"first year graduate salaries\". \n",
    "Your independent variable would be \"gender\", which has two groups: \"male\" and \"female.\n",
    "\n",
    "[[5]](#ref5)(statistics.laerd.com, Independent t-test using SPSS Statistics, Oct 2023) https://statistics.laerd.com/spss-tutorials/independent-t-test-using-spss-statistics.php"
   ]
  },
  {
   "cell_type": "markdown",
   "id": "21ae9b6e",
   "metadata": {},
   "source": [
    "**Probability Density Function**\n",
    "\n",
    "$ f(x) = \\frac{1}{\\sigma \\sqrt{2 \\pi} } e^{- \\frac{1}{2} \\big(\\frac{x - \\mu}{\\sigma}\\big)^2 } $"
   ]
  },
  {
   "cell_type": "markdown",
   "id": "ed2b802e",
   "metadata": {},
   "source": []
  },
  {
   "cell_type": "code",
   "execution_count": 1,
   "id": "c8b5dfad",
   "metadata": {},
   "outputs": [],
   "source": [
    "# Plots.\n",
    "import matplotlib.pyplot as plt\n",
    "\n",
    "# Numerical arrays.\n",
    "import numpy as np\n",
    "\n",
    "# Data frames.\n",
    "import pandas as pd\n",
    "\n",
    "# Statistics.\n",
    "import scipy.stats as ss"
   ]
  },
  {
   "cell_type": "code",
   "execution_count": 2,
   "id": "c8ce347e",
   "metadata": {},
   "outputs": [],
   "source": [
    "##function as written in lectures\n",
    "def normal_pdf(x, mu=0.0, sigma=1.0):\n",
    "  # Answer: A*B.\n",
    "  A = 1.0 / (sigma * np.sqrt(2.0 * np.pi))\n",
    "  B = np.exp(-0.5 * ((x - mu) / sigma)**2)\n",
    "  return A * B"
   ]
  },
  {
   "cell_type": "markdown",
   "id": "2f3ad9b2",
   "metadata": {},
   "source": [
    "#### Plot the normal distribution\n",
    "\n",
    "Lets plot the normal distribution using the formula coded in the `normal_pdf()` function above. Code calculates the probability density based on the formula above. [6](#ref6) (MLAS lecture notes, Ian McLoughlin, Oct 2023)"
   ]
  },
  {
   "cell_type": "code",
   "execution_count": 3,
   "id": "2d86815d",
   "metadata": {},
   "outputs": [
    {
     "data": {
      "text/plain": [
       "[<matplotlib.lines.Line2D at 0x185855070d0>]"
      ]
     },
     "execution_count": 3,
     "metadata": {},
     "output_type": "execute_result"
    },
    {
     "data": {
      "image/png": "[encoded data removed]",
      "text/plain": [
       "<Figure size 1200x600 with 1 Axes>"
      ]
     },
     "metadata": {},
     "output_type": "display_data"
    }
   ],
   "source": [
    "# Create a blank plot.\n",
    "fig, ax = plt.subplots(figsize=(12,6))\n",
    "\n",
    "# Range of x values.\n",
    "x = np.linspace(-4.0, 4.0, 1001)\n",
    "\n",
    "# Plot the pdf for the standard normal distribution.\n",
    "mu, sigma2 = 0.0, 1.0\n",
    "y = normal_pdf(x, mu=mu, sigma=np.sqrt(sigma2))\n",
    "ax.plot(x, y, label=f'$\\mu = {mu}, \\sigma^2 = {sigma2}$')"
   ]
  },
  {
   "cell_type": "markdown",
   "id": "5e4ec646",
   "metadata": {},
   "source": [
    "Create a function that calculates the PDF for the normal distribution"
   ]
  },
  {
   "cell_type": "code",
   "execution_count": 4,
   "id": "c02730ee",
   "metadata": {},
   "outputs": [
    {
     "data": {
      "text/plain": [
       "0.3989422804014327"
      ]
     },
     "execution_count": 4,
     "metadata": {},
     "output_type": "execute_result"
    }
   ],
   "source": [
    "normal_pdf(0)   ##red line. Middle of the standard normal pdf"
   ]
  },
  {
   "cell_type": "code",
   "execution_count": 5,
   "id": "98d4de9d",
   "metadata": {},
   "outputs": [
    {
     "data": {
      "text/plain": [
       "0.8920620580763857"
      ]
     },
     "execution_count": 5,
     "metadata": {},
     "output_type": "execute_result"
    }
   ],
   "source": [
    "normal_pdf(0,0,np.sqrt(0.2))   ##blue line"
   ]
  },
  {
   "cell_type": "code",
   "execution_count": 6,
   "id": "00f4236f",
   "metadata": {},
   "outputs": [
    {
     "data": {
      "text/plain": [
       "0.010333492677046035"
      ]
     },
     "execution_count": 6,
     "metadata": {},
     "output_type": "execute_result"
    }
   ],
   "source": [
    "normal_pdf(0,-2,np.sqrt(0.5))   ##green line... So it looks like we have done a good job of calculating the normal distribution"
   ]
  },
  {
   "cell_type": "markdown",
   "id": "514a50d9",
   "metadata": {},
   "source": [
    "#### Different normally distributed curves\n",
    "\n",
    "The below plot examples from wikipedia show normally distributed curves for differing values of $\\mu$ and \t$\\sigma$"
   ]
  },
  {
   "cell_type": "markdown",
   "id": "b004f663",
   "metadata": {},
   "source": [
    "![Normal Distribution](https://upload.wikimedia.org/wikipedia/commons/thumb/7/74/Normal_Distribution_PDF.svg/1280px-Normal_Distribution_PDF.svg.png)\n",
    "[2](#ref2) (Normal distribution, Wikipedia, Oct 2023)"
   ]
  },
  {
   "cell_type": "markdown",
   "id": "5af8ffb2",
   "metadata": {},
   "source": [
    "#### Generating a normal distribution\n",
    "\n",
    "There are many built in functions in Python. Numpy and scipy stats have such functions. Numpy will let us generate normally distributed data using np.random.normal() or normally distributed standard data using np.random.standard_normal. The standard normal distribution is a normal distribution where the mean is 0 and the standard deviation is 1. We can generate a satndard normal distribution with numpy.standard_normal\n",
    "\n",
    "#### Lets plot some Normal distribution examples, first using functions in the Python Numpy library\n",
    "\n",
    "The code below uses Numpy to generate random numbers in a normal distribution.\n",
    "\n",
    "[7](#ref7) (W3Schools.com, Normal (Gaussian) Distribution, Oct 2023) Retreived from: \n",
    "\n",
    "[8](#ref8) (sharpsightlabs.com, A Quick Introduction to Numpy Random Normal, Joshua Ebner, Oct 2023)\n",
    "\n",
    "3 parameters in the function. These allow us to control the mean, the standard deviation, and the size of the normal distribution\n",
    "\n",
    "I ran a random sample of 100 numbers, mean = 0 and standard deviation of 0.1 and plotted the random results. The data appears to be normally distributed but the bell curve is not well defined due to the small sample size. When the sample size is increased to 10000 we can see a well defined bell curve matching the familiar normal distribution."
   ]
  },
  {
   "cell_type": "code",
   "execution_count": 7,
   "id": "aa07781d",
   "metadata": {},
   "outputs": [
    {
     "data": {
      "image/png": "[encoded data removed]",
      "text/plain": [
       "<Figure size 1200x600 with 1 Axes>"
      ]
     },
     "metadata": {},
     "output_type": "display_data"
    }
   ],
   "source": [
    "random_data = np.random.standard_normal(100000) # Generate random normal data using numpy.random\n",
    "\n",
    "fig, ax = plt.subplots(figsize=(12,6)) # Create an empty plot.\n",
    "\n",
    "ax.hist(random_data, bins=40, density=True) # Plot a histogram of the data.\n",
    "\n",
    "\n",
    "mu, sigma2 = 0.0, 1.0  # Plot the pdf for the standard normal distribution.\n",
    "y = normal_pdf(x, mu=mu, sigma=np.sqrt(sigma2))\n",
    "ax.plot(x, y, label=f'$\\mu = {mu}, \\sigma^2 = {sigma2}$');"
   ]
  },
  {
   "cell_type": "markdown",
   "id": "2e6f63f4",
   "metadata": {},
   "source": [
    "### Sampling Distribution\n",
    "\n",
    "Lets look a ittle closer at the random (pseudo-random) numbers generated by numpy. Below code generates 2 arrays each 3 numbers long. The numbers are independantly generated and should have no relationship to eachother, other than that they all fit within a normal sttandard distribution. \n",
    "\n",
    "[9](#ref9) (Numpy.org, Random sampling, Oct 2023)\n",
    "\n",
    "The numpy.random module implements pseudo-random number generators (PRNGs or RNGs, for short) with the ability to draw samples from a variety of probability distributions."
   ]
  },
  {
   "cell_type": "code",
   "execution_count": 8,
   "id": "0bc79d17",
   "metadata": {},
   "outputs": [
    {
     "data": {
      "text/plain": [
       "array([[ 1.06291644,  1.595424  ,  0.31203104, ..., -0.51926463,\n",
       "        -0.86268964, -0.7214413 ],\n",
       "       [-0.3483865 , -0.61477319, -2.32859023, ..., -0.09936451,\n",
       "         0.04209374,  1.53382617],\n",
       "       [-0.27522418,  1.4536713 ,  2.30179625, ...,  0.89914854,\n",
       "        -1.02131091, -0.10868101],\n",
       "       ...,\n",
       "       [ 1.07786739, -1.43767102, -0.88801161, ..., -0.83782169,\n",
       "        -0.32249929,  0.33218333],\n",
       "       [-0.50204846,  1.40344809, -0.01126014, ..., -0.18131862,\n",
       "         1.80529324, -0.90654876],\n",
       "       [-0.71642601,  0.06727545, -0.68001683, ...,  0.51013066,\n",
       "        -1.21045171, -0.29338107]])"
      ]
     },
     "execution_count": 8,
     "metadata": {},
     "output_type": "execute_result"
    }
   ],
   "source": [
    "# Generate some random normal data.\n",
    "random_data = np.random.standard_normal((10000, 25))\n",
    "\n",
    "# Show.\n",
    "random_data"
   ]
  },
  {
   "cell_type": "code",
   "execution_count": 9,
   "id": "68fa4b35",
   "metadata": {},
   "outputs": [
    {
     "data": {
      "text/plain": [
       "array([ 0.03653944,  0.05496374, -0.09004887, ...,  0.06216047,\n",
       "        0.1006049 ,  0.07844936])"
      ]
     },
     "execution_count": 9,
     "metadata": {},
     "output_type": "execute_result"
    }
   ],
   "source": [
    "# Mean across the rows.\n",
    "random_data.mean(axis=1)"
   ]
  },
  {
   "cell_type": "code",
   "execution_count": 10,
   "id": "23b8c417",
   "metadata": {
    "collapsed": true
   },
   "outputs": [
    {
     "data": {
      "image/png": "[encoded data removed]",
      "text/plain": [
       "<Figure size 1200x600 with 1 Axes>"
      ]
     },
     "metadata": {},
     "output_type": "display_data"
    }
   ],
   "source": [
    "# Create an empty figure.\n",
    "fig, ax = plt.subplots(figsize=(12,6))\n",
    "\n",
    "# Histogram of means.\n",
    "ax.hist(random_data.mean(axis=1), bins=30);"
   ]
  },
  {
   "cell_type": "code",
   "execution_count": 11,
   "id": "b8eea50a",
   "metadata": {},
   "outputs": [
    {
     "data": {
      "image/png": "[encoded data removed]",
      "text/plain": [
       "<Figure size 1200x600 with 1 Axes>"
      ]
     },
     "metadata": {},
     "output_type": "display_data"
    }
   ],
   "source": [
    "# Create an empty figure.\n",
    "fig, ax = plt.subplots(figsize=(12,6))\n",
    "\n",
    "# Histogram of means.\n",
    "ax.hist(random_data.mean(axis=1), bins=30, density=True)\n",
    "\n",
    "# Plot standard normal distribution.\n",
    "x = np.linspace(-4.0, 4.0, 1001)\n",
    "y = normal_pdf(x)\n",
    "ax.plot(x, y);"
   ]
  },
  {
   "cell_type": "markdown",
   "id": "8ee344ae",
   "metadata": {},
   "source": [
    "# The Penguin data set.\n",
    "\n",
    "That brings us on to the data for this test. Lets look at the penguins dataset and attempt to perform a t-test to see if there is a relationship between male and female gentoo weights. Lets first load the dataset from seaborn library and have a look at it.\n",
    "\n",
    "[[10]](#ref10) (seaborn.pydata.org, seaborn.load_dataset, Oct 2023)"
   ]
  },
  {
   "cell_type": "code",
   "execution_count": 15,
   "id": "04d2d61a",
   "metadata": {},
   "outputs": [
    {
     "data": {
      "text/html": [
       "<div>\n",
       "<style scoped>\n",
       "    .dataframe tbody tr th:only-of-type {\n",
       "        vertical-align: middle;\n",
       "    }\n",
       "\n",
       "    .dataframe tbody tr th {\n",
       "        vertical-align: top;\n",
       "    }\n",
       "\n",
       "    .dataframe thead th {\n",
       "        text-align: right;\n",
       "    }\n",
       "</style>\n",
       "<table border=\"1\" class=\"dataframe\">\n",
       "  <thead>\n",
       "    <tr style=\"text-align: right;\">\n",
       "      <th></th>\n",
       "      <th>species</th>\n",
       "      <th>island</th>\n",
       "      <th>bill_length_mm</th>\n",
       "      <th>bill_depth_mm</th>\n",
       "      <th>flipper_length_mm</th>\n",
       "      <th>body_mass_g</th>\n",
       "      <th>sex</th>\n",
       "    </tr>\n",
       "  </thead>\n",
       "  <tbody>\n",
       "    <tr>\n",
       "      <th>0</th>\n",
       "      <td>Adelie</td>\n",
       "      <td>Torgersen</td>\n",
       "      <td>39.1</td>\n",
       "      <td>18.7</td>\n",
       "      <td>181.0</td>\n",
       "      <td>3750.0</td>\n",
       "      <td>Male</td>\n",
       "    </tr>\n",
       "    <tr>\n",
       "      <th>1</th>\n",
       "      <td>Adelie</td>\n",
       "      <td>Torgersen</td>\n",
       "      <td>39.5</td>\n",
       "      <td>17.4</td>\n",
       "      <td>186.0</td>\n",
       "      <td>3800.0</td>\n",
       "      <td>Female</td>\n",
       "    </tr>\n",
       "    <tr>\n",
       "      <th>2</th>\n",
       "      <td>Adelie</td>\n",
       "      <td>Torgersen</td>\n",
       "      <td>40.3</td>\n",
       "      <td>18.0</td>\n",
       "      <td>195.0</td>\n",
       "      <td>3250.0</td>\n",
       "      <td>Female</td>\n",
       "    </tr>\n",
       "    <tr>\n",
       "      <th>3</th>\n",
       "      <td>Adelie</td>\n",
       "      <td>Torgersen</td>\n",
       "      <td>NaN</td>\n",
       "      <td>NaN</td>\n",
       "      <td>NaN</td>\n",
       "      <td>NaN</td>\n",
       "      <td>NaN</td>\n",
       "    </tr>\n",
       "    <tr>\n",
       "      <th>4</th>\n",
       "      <td>Adelie</td>\n",
       "      <td>Torgersen</td>\n",
       "      <td>36.7</td>\n",
       "      <td>19.3</td>\n",
       "      <td>193.0</td>\n",
       "      <td>3450.0</td>\n",
       "      <td>Female</td>\n",
       "    </tr>\n",
       "    <tr>\n",
       "      <th>5</th>\n",
       "      <td>Adelie</td>\n",
       "      <td>Torgersen</td>\n",
       "      <td>39.3</td>\n",
       "      <td>20.6</td>\n",
       "      <td>190.0</td>\n",
       "      <td>3650.0</td>\n",
       "      <td>Male</td>\n",
       "    </tr>\n",
       "    <tr>\n",
       "      <th>6</th>\n",
       "      <td>Adelie</td>\n",
       "      <td>Torgersen</td>\n",
       "      <td>38.9</td>\n",
       "      <td>17.8</td>\n",
       "      <td>181.0</td>\n",
       "      <td>3625.0</td>\n",
       "      <td>Female</td>\n",
       "    </tr>\n",
       "    <tr>\n",
       "      <th>7</th>\n",
       "      <td>Adelie</td>\n",
       "      <td>Torgersen</td>\n",
       "      <td>39.2</td>\n",
       "      <td>19.6</td>\n",
       "      <td>195.0</td>\n",
       "      <td>4675.0</td>\n",
       "      <td>Male</td>\n",
       "    </tr>\n",
       "    <tr>\n",
       "      <th>8</th>\n",
       "      <td>Adelie</td>\n",
       "      <td>Torgersen</td>\n",
       "      <td>34.1</td>\n",
       "      <td>18.1</td>\n",
       "      <td>193.0</td>\n",
       "      <td>3475.0</td>\n",
       "      <td>NaN</td>\n",
       "    </tr>\n",
       "    <tr>\n",
       "      <th>9</th>\n",
       "      <td>Adelie</td>\n",
       "      <td>Torgersen</td>\n",
       "      <td>42.0</td>\n",
       "      <td>20.2</td>\n",
       "      <td>190.0</td>\n",
       "      <td>4250.0</td>\n",
       "      <td>NaN</td>\n",
       "    </tr>\n",
       "  </tbody>\n",
       "</table>\n",
       "</div>"
      ],
      "text/plain": [
       "  species     island  bill_length_mm  bill_depth_mm  flipper_length_mm  \\\n",
       "0  Adelie  Torgersen            39.1           18.7              181.0   \n",
       "1  Adelie  Torgersen            39.5           17.4              186.0   \n",
       "2  Adelie  Torgersen            40.3           18.0              195.0   \n",
       "3  Adelie  Torgersen             NaN            NaN                NaN   \n",
       "4  Adelie  Torgersen            36.7           19.3              193.0   \n",
       "5  Adelie  Torgersen            39.3           20.6              190.0   \n",
       "6  Adelie  Torgersen            38.9           17.8              181.0   \n",
       "7  Adelie  Torgersen            39.2           19.6              195.0   \n",
       "8  Adelie  Torgersen            34.1           18.1              193.0   \n",
       "9  Adelie  Torgersen            42.0           20.2              190.0   \n",
       "\n",
       "   body_mass_g     sex  \n",
       "0       3750.0    Male  \n",
       "1       3800.0  Female  \n",
       "2       3250.0  Female  \n",
       "3          NaN     NaN  \n",
       "4       3450.0  Female  \n",
       "5       3650.0    Male  \n",
       "6       3625.0  Female  \n",
       "7       4675.0    Male  \n",
       "8       3475.0     NaN  \n",
       "9       4250.0     NaN  "
      ]
     },
     "execution_count": 15,
     "metadata": {},
     "output_type": "execute_result"
    }
   ],
   "source": [
    "import numpy as np\n",
    "import pandas as pd\n",
    "import scipy.stats as sps\n",
    "import statsmodels.api as sm\n",
    "import matplotlib.pyplot as plt\n",
    "import seaborn as sns\n",
    "\n",
    "penguins = sns.load_dataset('penguins') #load the dataset from seaborn library\n",
    "penguins.head(10) #show the first 10 rows"
   ]
  },
  {
   "cell_type": "markdown",
   "id": "77c28f11",
   "metadata": {},
   "source": [
    "Lets get the penguins by species: Gentoo"
   ]
  },
  {
   "cell_type": "code",
   "execution_count": 17,
   "id": "e4d0ffec",
   "metadata": {},
   "outputs": [
    {
     "data": {
      "text/html": [
       "<div>\n",
       "<style scoped>\n",
       "    .dataframe tbody tr th:only-of-type {\n",
       "        vertical-align: middle;\n",
       "    }\n",
       "\n",
       "    .dataframe tbody tr th {\n",
       "        vertical-align: top;\n",
       "    }\n",
       "\n",
       "    .dataframe thead th {\n",
       "        text-align: right;\n",
       "    }\n",
       "</style>\n",
       "<table border=\"1\" class=\"dataframe\">\n",
       "  <thead>\n",
       "    <tr style=\"text-align: right;\">\n",
       "      <th></th>\n",
       "      <th>species</th>\n",
       "      <th>island</th>\n",
       "      <th>bill_length_mm</th>\n",
       "      <th>bill_depth_mm</th>\n",
       "      <th>flipper_length_mm</th>\n",
       "      <th>body_mass_g</th>\n",
       "      <th>sex</th>\n",
       "    </tr>\n",
       "  </thead>\n",
       "  <tbody>\n",
       "    <tr>\n",
       "      <th>220</th>\n",
       "      <td>Gentoo</td>\n",
       "      <td>Biscoe</td>\n",
       "      <td>46.1</td>\n",
       "      <td>13.2</td>\n",
       "      <td>211.0</td>\n",
       "      <td>4500.0</td>\n",
       "      <td>Female</td>\n",
       "    </tr>\n",
       "    <tr>\n",
       "      <th>221</th>\n",
       "      <td>Gentoo</td>\n",
       "      <td>Biscoe</td>\n",
       "      <td>50.0</td>\n",
       "      <td>16.3</td>\n",
       "      <td>230.0</td>\n",
       "      <td>5700.0</td>\n",
       "      <td>Male</td>\n",
       "    </tr>\n",
       "    <tr>\n",
       "      <th>222</th>\n",
       "      <td>Gentoo</td>\n",
       "      <td>Biscoe</td>\n",
       "      <td>48.7</td>\n",
       "      <td>14.1</td>\n",
       "      <td>210.0</td>\n",
       "      <td>4450.0</td>\n",
       "      <td>Female</td>\n",
       "    </tr>\n",
       "    <tr>\n",
       "      <th>223</th>\n",
       "      <td>Gentoo</td>\n",
       "      <td>Biscoe</td>\n",
       "      <td>50.0</td>\n",
       "      <td>15.2</td>\n",
       "      <td>218.0</td>\n",
       "      <td>5700.0</td>\n",
       "      <td>Male</td>\n",
       "    </tr>\n",
       "    <tr>\n",
       "      <th>224</th>\n",
       "      <td>Gentoo</td>\n",
       "      <td>Biscoe</td>\n",
       "      <td>47.6</td>\n",
       "      <td>14.5</td>\n",
       "      <td>215.0</td>\n",
       "      <td>5400.0</td>\n",
       "      <td>Male</td>\n",
       "    </tr>\n",
       "    <tr>\n",
       "      <th>225</th>\n",
       "      <td>Gentoo</td>\n",
       "      <td>Biscoe</td>\n",
       "      <td>46.5</td>\n",
       "      <td>13.5</td>\n",
       "      <td>210.0</td>\n",
       "      <td>4550.0</td>\n",
       "      <td>Female</td>\n",
       "    </tr>\n",
       "    <tr>\n",
       "      <th>226</th>\n",
       "      <td>Gentoo</td>\n",
       "      <td>Biscoe</td>\n",
       "      <td>45.4</td>\n",
       "      <td>14.6</td>\n",
       "      <td>211.0</td>\n",
       "      <td>4800.0</td>\n",
       "      <td>Female</td>\n",
       "    </tr>\n",
       "    <tr>\n",
       "      <th>227</th>\n",
       "      <td>Gentoo</td>\n",
       "      <td>Biscoe</td>\n",
       "      <td>46.7</td>\n",
       "      <td>15.3</td>\n",
       "      <td>219.0</td>\n",
       "      <td>5200.0</td>\n",
       "      <td>Male</td>\n",
       "    </tr>\n",
       "    <tr>\n",
       "      <th>228</th>\n",
       "      <td>Gentoo</td>\n",
       "      <td>Biscoe</td>\n",
       "      <td>43.3</td>\n",
       "      <td>13.4</td>\n",
       "      <td>209.0</td>\n",
       "      <td>4400.0</td>\n",
       "      <td>Female</td>\n",
       "    </tr>\n",
       "    <tr>\n",
       "      <th>229</th>\n",
       "      <td>Gentoo</td>\n",
       "      <td>Biscoe</td>\n",
       "      <td>46.8</td>\n",
       "      <td>15.4</td>\n",
       "      <td>215.0</td>\n",
       "      <td>5150.0</td>\n",
       "      <td>Male</td>\n",
       "    </tr>\n",
       "  </tbody>\n",
       "</table>\n",
       "</div>"
      ],
      "text/plain": [
       "    species  island  bill_length_mm  bill_depth_mm  flipper_length_mm  \\\n",
       "220  Gentoo  Biscoe            46.1           13.2              211.0   \n",
       "221  Gentoo  Biscoe            50.0           16.3              230.0   \n",
       "222  Gentoo  Biscoe            48.7           14.1              210.0   \n",
       "223  Gentoo  Biscoe            50.0           15.2              218.0   \n",
       "224  Gentoo  Biscoe            47.6           14.5              215.0   \n",
       "225  Gentoo  Biscoe            46.5           13.5              210.0   \n",
       "226  Gentoo  Biscoe            45.4           14.6              211.0   \n",
       "227  Gentoo  Biscoe            46.7           15.3              219.0   \n",
       "228  Gentoo  Biscoe            43.3           13.4              209.0   \n",
       "229  Gentoo  Biscoe            46.8           15.4              215.0   \n",
       "\n",
       "     body_mass_g     sex  \n",
       "220       4500.0  Female  \n",
       "221       5700.0    Male  \n",
       "222       4450.0  Female  \n",
       "223       5700.0    Male  \n",
       "224       5400.0    Male  \n",
       "225       4550.0  Female  \n",
       "226       4800.0  Female  \n",
       "227       5200.0    Male  \n",
       "228       4400.0  Female  \n",
       "229       5150.0    Male  "
      ]
     },
     "execution_count": 17,
     "metadata": {},
     "output_type": "execute_result"
    }
   ],
   "source": [
    "gentoos = penguins[penguins['species'] == 'Gentoo']\n",
    "gentoos.head(10)"
   ]
  },
  {
   "cell_type": "markdown",
   "id": "5c064d25",
   "metadata": {},
   "source": [
    "The gentoo data info below shows an overview of the data we have for gentoos"
   ]
  },
  {
   "cell_type": "code",
   "execution_count": 18,
   "id": "b5894c26",
   "metadata": {
    "scrolled": false
   },
   "outputs": [
    {
     "name": "stdout",
     "output_type": "stream",
     "text": [
      "<class 'pandas.core.frame.DataFrame'>\n",
      "Index: 124 entries, 220 to 343\n",
      "Data columns (total 7 columns):\n",
      " #   Column             Non-Null Count  Dtype  \n",
      "---  ------             --------------  -----  \n",
      " 0   species            124 non-null    object \n",
      " 1   island             124 non-null    object \n",
      " 2   bill_length_mm     123 non-null    float64\n",
      " 3   bill_depth_mm      123 non-null    float64\n",
      " 4   flipper_length_mm  123 non-null    float64\n",
      " 5   body_mass_g        123 non-null    float64\n",
      " 6   sex                119 non-null    object \n",
      "dtypes: float64(4), object(3)\n",
      "memory usage: 7.8+ KB\n"
     ]
    }
   ],
   "source": [
    "gentoos.info()"
   ]
  },
  {
   "cell_type": "markdown",
   "id": "b3167eec",
   "metadata": {},
   "source": [
    "### Paired groups for ttest\n",
    "\n",
    "\n",
    "We can't measure the weight all the Gentoos in the world, but we do have a sample of them. We can see in the dataset there are a number of catogories including Male/Female, so lets see how many of each and seperate them out. The dataset contains a sample of 61 male gentoos and 58 female gentoos weights. So if we do a calculation on this sample, this statistic can help us to estimate the population parameter. In our case the mean of the sample can be used as an estimate of the mean of the population. So if we seperate them out, this will give us out 2 paired groups (or samples) required for the ttest."
   ]
  },
  {
   "cell_type": "code",
   "execution_count": 56,
   "id": "ae464019",
   "metadata": {
    "scrolled": true
   },
   "outputs": [
    {
     "data": {
      "text/plain": [
       "sex\n",
       "Male      61\n",
       "Female    58\n",
       "Name: count, dtype: int64"
      ]
     },
     "execution_count": 56,
     "metadata": {},
     "output_type": "execute_result"
    }
   ],
   "source": [
    "gentoos.sex.unique() #get count of males and females\n",
    "gentoos.value_counts(subset = gentoos.sex)"
   ]
  },
  {
   "cell_type": "code",
   "execution_count": 57,
   "id": "ffc39462",
   "metadata": {
    "collapsed": true
   },
   "outputs": [
    {
     "data": {
      "text/plain": [
       "<Axes: xlabel='body_mass_g', ylabel='Count'>"
      ]
     },
     "execution_count": 57,
     "metadata": {},
     "output_type": "execute_result"
    },
    {
     "data": {
      "image/png": "[encoded data removed]",
      "text/plain": [
       "<Figure size 640x480 with 1 Axes>"
      ]
     },
     "metadata": {},
     "output_type": "display_data"
    }
   ],
   "source": [
    "sns.histplot(data=gentoos, x=\"body_mass_g\", hue=\"sex\")"
   ]
  },
  {
   "cell_type": "code",
   "execution_count": 21,
   "id": "e1e0115a",
   "metadata": {},
   "outputs": [
    {
     "data": {
      "text/html": [
       "<div>\n",
       "<style scoped>\n",
       "    .dataframe tbody tr th:only-of-type {\n",
       "        vertical-align: middle;\n",
       "    }\n",
       "\n",
       "    .dataframe tbody tr th {\n",
       "        vertical-align: top;\n",
       "    }\n",
       "\n",
       "    .dataframe thead th {\n",
       "        text-align: right;\n",
       "    }\n",
       "</style>\n",
       "<table border=\"1\" class=\"dataframe\">\n",
       "  <thead>\n",
       "    <tr style=\"text-align: right;\">\n",
       "      <th></th>\n",
       "      <th>species</th>\n",
       "      <th>island</th>\n",
       "      <th>bill_length_mm</th>\n",
       "      <th>bill_depth_mm</th>\n",
       "      <th>flipper_length_mm</th>\n",
       "      <th>body_mass_g</th>\n",
       "      <th>sex</th>\n",
       "    </tr>\n",
       "  </thead>\n",
       "  <tbody>\n",
       "    <tr>\n",
       "      <th>221</th>\n",
       "      <td>Gentoo</td>\n",
       "      <td>Biscoe</td>\n",
       "      <td>50.0</td>\n",
       "      <td>16.3</td>\n",
       "      <td>230.0</td>\n",
       "      <td>5700.0</td>\n",
       "      <td>Male</td>\n",
       "    </tr>\n",
       "    <tr>\n",
       "      <th>223</th>\n",
       "      <td>Gentoo</td>\n",
       "      <td>Biscoe</td>\n",
       "      <td>50.0</td>\n",
       "      <td>15.2</td>\n",
       "      <td>218.0</td>\n",
       "      <td>5700.0</td>\n",
       "      <td>Male</td>\n",
       "    </tr>\n",
       "    <tr>\n",
       "      <th>224</th>\n",
       "      <td>Gentoo</td>\n",
       "      <td>Biscoe</td>\n",
       "      <td>47.6</td>\n",
       "      <td>14.5</td>\n",
       "      <td>215.0</td>\n",
       "      <td>5400.0</td>\n",
       "      <td>Male</td>\n",
       "    </tr>\n",
       "    <tr>\n",
       "      <th>227</th>\n",
       "      <td>Gentoo</td>\n",
       "      <td>Biscoe</td>\n",
       "      <td>46.7</td>\n",
       "      <td>15.3</td>\n",
       "      <td>219.0</td>\n",
       "      <td>5200.0</td>\n",
       "      <td>Male</td>\n",
       "    </tr>\n",
       "    <tr>\n",
       "      <th>229</th>\n",
       "      <td>Gentoo</td>\n",
       "      <td>Biscoe</td>\n",
       "      <td>46.8</td>\n",
       "      <td>15.4</td>\n",
       "      <td>215.0</td>\n",
       "      <td>5150.0</td>\n",
       "      <td>Male</td>\n",
       "    </tr>\n",
       "    <tr>\n",
       "      <th>231</th>\n",
       "      <td>Gentoo</td>\n",
       "      <td>Biscoe</td>\n",
       "      <td>49.0</td>\n",
       "      <td>16.1</td>\n",
       "      <td>216.0</td>\n",
       "      <td>5550.0</td>\n",
       "      <td>Male</td>\n",
       "    </tr>\n",
       "    <tr>\n",
       "      <th>233</th>\n",
       "      <td>Gentoo</td>\n",
       "      <td>Biscoe</td>\n",
       "      <td>48.4</td>\n",
       "      <td>14.6</td>\n",
       "      <td>213.0</td>\n",
       "      <td>5850.0</td>\n",
       "      <td>Male</td>\n",
       "    </tr>\n",
       "    <tr>\n",
       "      <th>235</th>\n",
       "      <td>Gentoo</td>\n",
       "      <td>Biscoe</td>\n",
       "      <td>49.3</td>\n",
       "      <td>15.7</td>\n",
       "      <td>217.0</td>\n",
       "      <td>5850.0</td>\n",
       "      <td>Male</td>\n",
       "    </tr>\n",
       "    <tr>\n",
       "      <th>237</th>\n",
       "      <td>Gentoo</td>\n",
       "      <td>Biscoe</td>\n",
       "      <td>49.2</td>\n",
       "      <td>15.2</td>\n",
       "      <td>221.0</td>\n",
       "      <td>6300.0</td>\n",
       "      <td>Male</td>\n",
       "    </tr>\n",
       "    <tr>\n",
       "      <th>239</th>\n",
       "      <td>Gentoo</td>\n",
       "      <td>Biscoe</td>\n",
       "      <td>48.7</td>\n",
       "      <td>15.1</td>\n",
       "      <td>222.0</td>\n",
       "      <td>5350.0</td>\n",
       "      <td>Male</td>\n",
       "    </tr>\n",
       "  </tbody>\n",
       "</table>\n",
       "</div>"
      ],
      "text/plain": [
       "    species  island  bill_length_mm  bill_depth_mm  flipper_length_mm  \\\n",
       "221  Gentoo  Biscoe            50.0           16.3              230.0   \n",
       "223  Gentoo  Biscoe            50.0           15.2              218.0   \n",
       "224  Gentoo  Biscoe            47.6           14.5              215.0   \n",
       "227  Gentoo  Biscoe            46.7           15.3              219.0   \n",
       "229  Gentoo  Biscoe            46.8           15.4              215.0   \n",
       "231  Gentoo  Biscoe            49.0           16.1              216.0   \n",
       "233  Gentoo  Biscoe            48.4           14.6              213.0   \n",
       "235  Gentoo  Biscoe            49.3           15.7              217.0   \n",
       "237  Gentoo  Biscoe            49.2           15.2              221.0   \n",
       "239  Gentoo  Biscoe            48.7           15.1              222.0   \n",
       "\n",
       "     body_mass_g   sex  \n",
       "221       5700.0  Male  \n",
       "223       5700.0  Male  \n",
       "224       5400.0  Male  \n",
       "227       5200.0  Male  \n",
       "229       5150.0  Male  \n",
       "231       5550.0  Male  \n",
       "233       5850.0  Male  \n",
       "235       5850.0  Male  \n",
       "237       6300.0  Male  \n",
       "239       5350.0  Male  "
      ]
     },
     "execution_count": 21,
     "metadata": {},
     "output_type": "execute_result"
    }
   ],
   "source": [
    "gentoos_male = gentoos[gentoos['sex'] == 'Male']\n",
    "gentoos_male.head(10)"
   ]
  },
  {
   "cell_type": "code",
   "execution_count": 22,
   "id": "d44bb95b",
   "metadata": {},
   "outputs": [
    {
     "data": {
      "text/html": [
       "<div>\n",
       "<style scoped>\n",
       "    .dataframe tbody tr th:only-of-type {\n",
       "        vertical-align: middle;\n",
       "    }\n",
       "\n",
       "    .dataframe tbody tr th {\n",
       "        vertical-align: top;\n",
       "    }\n",
       "\n",
       "    .dataframe thead th {\n",
       "        text-align: right;\n",
       "    }\n",
       "</style>\n",
       "<table border=\"1\" class=\"dataframe\">\n",
       "  <thead>\n",
       "    <tr style=\"text-align: right;\">\n",
       "      <th></th>\n",
       "      <th>species</th>\n",
       "      <th>island</th>\n",
       "      <th>bill_length_mm</th>\n",
       "      <th>bill_depth_mm</th>\n",
       "      <th>flipper_length_mm</th>\n",
       "      <th>body_mass_g</th>\n",
       "      <th>sex</th>\n",
       "    </tr>\n",
       "  </thead>\n",
       "  <tbody>\n",
       "    <tr>\n",
       "      <th>220</th>\n",
       "      <td>Gentoo</td>\n",
       "      <td>Biscoe</td>\n",
       "      <td>46.1</td>\n",
       "      <td>13.2</td>\n",
       "      <td>211.0</td>\n",
       "      <td>4500.0</td>\n",
       "      <td>Female</td>\n",
       "    </tr>\n",
       "    <tr>\n",
       "      <th>222</th>\n",
       "      <td>Gentoo</td>\n",
       "      <td>Biscoe</td>\n",
       "      <td>48.7</td>\n",
       "      <td>14.1</td>\n",
       "      <td>210.0</td>\n",
       "      <td>4450.0</td>\n",
       "      <td>Female</td>\n",
       "    </tr>\n",
       "    <tr>\n",
       "      <th>225</th>\n",
       "      <td>Gentoo</td>\n",
       "      <td>Biscoe</td>\n",
       "      <td>46.5</td>\n",
       "      <td>13.5</td>\n",
       "      <td>210.0</td>\n",
       "      <td>4550.0</td>\n",
       "      <td>Female</td>\n",
       "    </tr>\n",
       "    <tr>\n",
       "      <th>226</th>\n",
       "      <td>Gentoo</td>\n",
       "      <td>Biscoe</td>\n",
       "      <td>45.4</td>\n",
       "      <td>14.6</td>\n",
       "      <td>211.0</td>\n",
       "      <td>4800.0</td>\n",
       "      <td>Female</td>\n",
       "    </tr>\n",
       "    <tr>\n",
       "      <th>228</th>\n",
       "      <td>Gentoo</td>\n",
       "      <td>Biscoe</td>\n",
       "      <td>43.3</td>\n",
       "      <td>13.4</td>\n",
       "      <td>209.0</td>\n",
       "      <td>4400.0</td>\n",
       "      <td>Female</td>\n",
       "    </tr>\n",
       "    <tr>\n",
       "      <th>230</th>\n",
       "      <td>Gentoo</td>\n",
       "      <td>Biscoe</td>\n",
       "      <td>40.9</td>\n",
       "      <td>13.7</td>\n",
       "      <td>214.0</td>\n",
       "      <td>4650.0</td>\n",
       "      <td>Female</td>\n",
       "    </tr>\n",
       "    <tr>\n",
       "      <th>232</th>\n",
       "      <td>Gentoo</td>\n",
       "      <td>Biscoe</td>\n",
       "      <td>45.5</td>\n",
       "      <td>13.7</td>\n",
       "      <td>214.0</td>\n",
       "      <td>4650.0</td>\n",
       "      <td>Female</td>\n",
       "    </tr>\n",
       "    <tr>\n",
       "      <th>234</th>\n",
       "      <td>Gentoo</td>\n",
       "      <td>Biscoe</td>\n",
       "      <td>45.8</td>\n",
       "      <td>14.6</td>\n",
       "      <td>210.0</td>\n",
       "      <td>4200.0</td>\n",
       "      <td>Female</td>\n",
       "    </tr>\n",
       "    <tr>\n",
       "      <th>236</th>\n",
       "      <td>Gentoo</td>\n",
       "      <td>Biscoe</td>\n",
       "      <td>42.0</td>\n",
       "      <td>13.5</td>\n",
       "      <td>210.0</td>\n",
       "      <td>4150.0</td>\n",
       "      <td>Female</td>\n",
       "    </tr>\n",
       "    <tr>\n",
       "      <th>238</th>\n",
       "      <td>Gentoo</td>\n",
       "      <td>Biscoe</td>\n",
       "      <td>46.2</td>\n",
       "      <td>14.5</td>\n",
       "      <td>209.0</td>\n",
       "      <td>4800.0</td>\n",
       "      <td>Female</td>\n",
       "    </tr>\n",
       "  </tbody>\n",
       "</table>\n",
       "</div>"
      ],
      "text/plain": [
       "    species  island  bill_length_mm  bill_depth_mm  flipper_length_mm  \\\n",
       "220  Gentoo  Biscoe            46.1           13.2              211.0   \n",
       "222  Gentoo  Biscoe            48.7           14.1              210.0   \n",
       "225  Gentoo  Biscoe            46.5           13.5              210.0   \n",
       "226  Gentoo  Biscoe            45.4           14.6              211.0   \n",
       "228  Gentoo  Biscoe            43.3           13.4              209.0   \n",
       "230  Gentoo  Biscoe            40.9           13.7              214.0   \n",
       "232  Gentoo  Biscoe            45.5           13.7              214.0   \n",
       "234  Gentoo  Biscoe            45.8           14.6              210.0   \n",
       "236  Gentoo  Biscoe            42.0           13.5              210.0   \n",
       "238  Gentoo  Biscoe            46.2           14.5              209.0   \n",
       "\n",
       "     body_mass_g     sex  \n",
       "220       4500.0  Female  \n",
       "222       4450.0  Female  \n",
       "225       4550.0  Female  \n",
       "226       4800.0  Female  \n",
       "228       4400.0  Female  \n",
       "230       4650.0  Female  \n",
       "232       4650.0  Female  \n",
       "234       4200.0  Female  \n",
       "236       4150.0  Female  \n",
       "238       4800.0  Female  "
      ]
     },
     "execution_count": 22,
     "metadata": {},
     "output_type": "execute_result"
    }
   ],
   "source": [
    "gentoos_female = gentoos[gentoos['sex'] == 'Female']\n",
    "gentoos_female.head(10)"
   ]
  },
  {
   "cell_type": "code",
   "execution_count": null,
   "id": "69e79f08",
   "metadata": {},
   "outputs": [],
   "source": [
    "Mow we have the two paired groups, we need to focus on getting the body mass of both groups. "
   ]
  },
  {
   "cell_type": "code",
   "execution_count": 30,
   "id": "cd981565",
   "metadata": {},
   "outputs": [
    {
     "data": {
      "text/plain": [
       "221    5700.0\n",
       "223    5700.0\n",
       "224    5400.0\n",
       "227    5200.0\n",
       "229    5150.0\n",
       "231    5550.0\n",
       "233    5850.0\n",
       "235    5850.0\n",
       "237    6300.0\n",
       "239    5350.0\n",
       "Name: body_mass_g, dtype: float64"
      ]
     },
     "execution_count": 30,
     "metadata": {},
     "output_type": "execute_result"
    }
   ],
   "source": [
    "male_mass = gentoos_male['body_mass_g']\n",
    "male_mass.head(10)"
   ]
  },
  {
   "cell_type": "code",
   "execution_count": 31,
   "id": "e3e9ea6e",
   "metadata": {
    "scrolled": false
   },
   "outputs": [
    {
     "data": {
      "text/plain": [
       "220    4500.0\n",
       "222    4450.0\n",
       "225    4550.0\n",
       "226    4800.0\n",
       "228    4400.0\n",
       "230    4650.0\n",
       "232    4650.0\n",
       "234    4200.0\n",
       "236    4150.0\n",
       "238    4800.0\n",
       "Name: body_mass_g, dtype: float64"
      ]
     },
     "execution_count": 31,
     "metadata": {},
     "output_type": "execute_result"
    }
   ],
   "source": [
    "female_mass = gentoos_female['body_mass_g']\n",
    "female_mass.head(10)"
   ]
  },
  {
   "cell_type": "code",
   "execution_count": 52,
   "id": "72bc8f35",
   "metadata": {},
   "outputs": [
    {
     "data": {
      "text/plain": [
       "Text(0.5, 1.0, 'Female mass')"
      ]
     },
     "execution_count": 52,
     "metadata": {},
     "output_type": "execute_result"
    },
    {
     "data": {
      "image/png": "[encoded data removed]",
      "text/plain": [
       "<Figure size 1200x600 with 1 Axes>"
      ]
     },
     "metadata": {},
     "output_type": "display_data"
    }
   ],
   "source": [
    "# Create an empty plot.\n",
    "fig, ax = plt.subplots(figsize=(12,6))\n",
    "# Plot a histogram of the data.\n",
    "\n",
    "plt.hist(female_mass, bins=100,range=(2000,8000))\n",
    "plt.title(\"Female mass\", size=20, color=\"red\")"
   ]
  },
  {
   "cell_type": "code",
   "execution_count": 58,
   "id": "814883bb",
   "metadata": {},
   "outputs": [
    {
     "data": {
      "text/plain": [
       "Text(0.5, 1.0, 'Male mass')"
      ]
     },
     "execution_count": 58,
     "metadata": {},
     "output_type": "execute_result"
    },
    {
     "data": {
      "image/png": "[encoded data removed]",
      "text/plain": [
       "<Figure size 1200x600 with 1 Axes>"
      ]
     },
     "metadata": {},
     "output_type": "display_data"
    }
   ],
   "source": [
    "# Create an empty plot.\n",
    "fig, ax = plt.subplots(figsize=(12,6))\n",
    "# Plot a histogram of the data.\n",
    "\n",
    "plt.hist(male_mass, bins=100,range=(2000,8000))\n",
    "plt.title(\"Male mass\", size=20, color=\"red\")"
   ]
  },
  {
   "cell_type": "markdown",
   "id": "d9874d46",
   "metadata": {},
   "source": [
    "### Any evidence of a difference in mass of Male and Female Gentoos?\n",
    "\n",
    "Plot the mass of both male and female gentoos on one histogram with seaborn. We can see there is some overlap, but both sets have seperate distributions. Also I have added the KDE curve (Kernel Density Estimators)\n",
    "\n",
    "From this plot we can say YES \"there is evidence of a significant difference in the body\n",
    "mass of male and female gentoo penguins\""
   ]
  },
  {
   "cell_type": "markdown",
   "id": "0abc3260",
   "metadata": {},
   "source": [
    "#### Getting more values from the dataset\n",
    "\n",
    "Getting the mean body mass of both groups. Lets look at the mean of both groups. The mean mass of Female Gentoo Penguins is around 4680g while the mean mass of Male Gentoo Penguins is around 5485g. Here we also find the mean and standard deviation for the group of Gentoos overall."
   ]
  },
  {
   "cell_type": "code",
   "execution_count": 87,
   "id": "74fdb49c",
   "metadata": {},
   "outputs": [
    {
     "data": {
      "text/plain": [
       "(4679.741379310345, 5484.836065573771)"
      ]
     },
     "execution_count": 87,
     "metadata": {},
     "output_type": "execute_result"
    }
   ],
   "source": [
    "gentoos_mass = gentoos['body_mass_g']\n",
    "gentoos_mean_mass = gentoos_mass.mean()\n",
    "gentoos_sd_mass = gentoos_mass.std()\n",
    "female_mass_mean = female_mass.mean()\n",
    "male_mass_mean = male_mass.mean()\n",
    "female_mass_mean, male_mass_mean"
   ]
  },
  {
   "cell_type": "code",
   "execution_count": null,
   "id": "b0617784",
   "metadata": {},
   "outputs": [],
   "source": []
  },
  {
   "cell_type": "code",
   "execution_count": 86,
   "id": "36039dec",
   "metadata": {},
   "outputs": [
    {
     "data": {
      "text/plain": [
       "Text(0.5, 1.0, 'Gentoo Penguin mass g')"
      ]
     },
     "execution_count": 86,
     "metadata": {},
     "output_type": "execute_result"
    },
    {
     "data": {
      "image/png": "[encoded data removed]",
      "text/plain": [
       "<Figure size 1200x600 with 1 Axes>"
      ]
     },
     "metadata": {},
     "output_type": "display_data"
    }
   ],
   "source": [
    "fig, ax = plt.subplots(figsize=(12,6))\n",
    "sns.histplot(data=gentoos, x=\"body_mass_g\", hue=\"sex\", bins=100, kde=True)\n",
    "#sns.histplot(data=gentoos, x=\"body_mass_g\", kde=True)\n",
    "\n",
    "plt.xlim(2000, 8000)\n",
    "plt.title(\"Gentoo Penguin mass g\", size=20, color=\"red\")"
   ]
  },
  {
   "cell_type": "markdown",
   "id": "ffc1d620",
   "metadata": {},
   "source": [
    "### Running a ttest on the groups\n",
    "\n",
    "Now we have the data extracted form our data set, lets run a ttest. The two arrays of data we have lend themselves to a ttest.\n",
    "\n",
    "We can use `scipy.stats.ttest_ind()` which will:\n",
    "Calculate the T-test for the means of two independent samples of scores.\n",
    "This is a test for the null hypothesis that 2 independent samples have identical average (expected) values. This test assumes that the populations have identical variances by default.\n",
    "\n",
    "Perform a t-test on these 2 arrays. The t-test should \n",
    "\n",
    "[11](#ref11) (docs.scipy.org, scipy.stats.ttest_ind  https://docs.scipy.org/doc/scipy/reference/generated/scipy.stats.ttest_ind.html"
   ]
  },
  {
   "cell_type": "code",
   "execution_count": 36,
   "id": "f0aa34c7",
   "metadata": {},
   "outputs": [
    {
     "data": {
      "text/plain": [
       "TtestResult(statistic=14.721676481405709, pvalue=2.133687602018886e-28, df=117.0)"
      ]
     },
     "execution_count": 36,
     "metadata": {},
     "output_type": "execute_result"
    }
   ],
   "source": [
    "# t-test.\n",
    "ss.ttest_ind(male_mass, female_mass)\n",
    "\n"
   ]
  },
  {
   "cell_type": "markdown",
   "id": "7faabbdb",
   "metadata": {},
   "source": [
    "Lets calculate the quantiles of the t-distribution corresponding to our confidence level and degrees of freedom. The df is our sample size -1. `(62+59)-1` = df = 120. We can calculate the quantiles using the scipy Percent point function `ss.t.ppf()`\n",
    "\n",
    "[[12]](#ref12) (Youtube.com, T-test, ANOVA and Chi Squared test made easy, Oct 2023) \n",
    "\n",
    "[[13]](#ref13)(youtube.com, Python for Data Analysis: Hypothesis Testing and T-Tests, DataDaft, Oct 2023) "
   ]
  },
  {
   "cell_type": "code",
   "execution_count": 95,
   "id": "f650b688",
   "metadata": {},
   "outputs": [
    {
     "data": {
      "text/plain": [
       "(-1.979930405052777, 1.9799304050527766)"
      ]
     },
     "execution_count": 95,
     "metadata": {},
     "output_type": "execute_result"
    }
   ],
   "source": [
    "ss.t.ppf(q=.025, df=120), ss.t.ppf(q=.975, df=120) #Percent point function. 95% confidence interval for our sample size."
   ]
  },
  {
   "cell_type": "markdown",
   "id": "ab39e4b0",
   "metadata": {},
   "source": [
    "This creates a confidence interval of 95% around our female mass mean. So we see at 95% confidence interval our female_mass  falls within our population mean. This is to be expected as seen in the earlier plots with the overlap."
   ]
  },
  {
   "cell_type": "code",
   "execution_count": 103,
   "id": "a9d67f6e",
   "metadata": {},
   "outputs": [
    {
     "data": {
      "text/plain": [
       "(4233.692419737132, 5918.340100588071)"
      ]
     },
     "execution_count": 103,
     "metadata": {},
     "output_type": "execute_result"
    }
   ],
   "source": [
    "import math\n",
    "sigma = female_mass_mean/math.sqrt(121) #sample stdev/sample size\n",
    "\n",
    "ss.t.interval(0.95,   #confidence interval\n",
    "              df=120,  #degrees of freedom\n",
    "              loc=gentoos_mean_mass,  #sample mean\n",
    "              scale=sigma) #standard deviation estimate"
   ]
  },
  {
   "cell_type": "markdown",
   "id": "5dfa2b89",
   "metadata": {},
   "source": [
    "### ttest Results\n",
    "\n",
    "The scipy ttest returns an object `TtestResult` with the following attributes:\n",
    "    \n",
    "`statisticfloat` or ndarray\n",
    "    The t-statistic.\n",
    "    \n",
    "`pvaluefloat` or ndarray\n",
    "    The p-value associated with the given alternative.\n",
    "    \n",
    "`dffloat` or ndarray\n",
    "    The number of degrees of freedom used in calculation of the t-statistic. This is always NaN for a permutation t-test.   \n",
    "    "
   ]
  },
  {
   "cell_type": "markdown",
   "id": "578fb275",
   "metadata": {},
   "source": [
    "### Understanding the results\n",
    "\n",
    "If we assume at the outset that there is no difference between the male and female mass, and take this to be k0, or the NULL hypothesis. If this is true what are the chances that the sample data we have would fit that hypothesis? From what we have seen it looks unlikley, but how to read that from the ttest results?\n",
    "\n",
    "Lets say this is very improbable, we need to set a treshold for this. If we say that the chances of seeing the different mass_means for the pair in our sample and the poplation overall having same mass_mean is very unlikley, could we put a value on that. Lets say there is a 5% chance of this being the case. \n",
    "\n",
    "So we can take it that a p-value of less than 5% (p-value<0.05) means the result is statistically significant. In otherwords we reject the NULL hypothesis and accept that the sample data is representitive of the overall population. That a Gentoo Penguins weight will likley vary depending on their sex. On the plots earlier we can see Males are generally heavier than females.\n",
    "\n",
    "If a p-value reported from a t test is less than 0.05, then that result is said to be statistically significant. If a p-value is greater than 0.05, then the result is insignificant.\n",
    "\n",
    "In this case the pvalue is signifficantly lower than 0.05 which indicates the result is statistically significant. The chance of seeing the sample we have in a population where there is no difference in Male and Female weights in very unlikley.\n",
    "\n",
    "This result (`pvalue=2.133687602018886e-28`) gives us strong enough evidence to reject the NULL hypothesis and say, yes there is likly to be a difference in the weight of a Gentoo penguin based on their sex. \n",
    "\n",
    "The ttest statistic value (`statistic=14.721676481405709`) tells us how much the sample mean deviates from the null hypothesis. I fthe statistic lies outside the quantiles of the t-distribution corresponding to our confidence level and degrees of freedom, we reject the null hypothesis.\n",
    "\n",
    "So our t-statistic of 14.721676481405709 is well outside our range of -1.979930405052777 to 1.9799304050527766, so this is further evidence to accept the alternative hypothesis and reject the NULL hypothesis. \n"
   ]
  },
  {
   "cell_type": "markdown",
   "id": "6892c947",
   "metadata": {},
   "source": [
    "### Conclusion\n",
    "\n",
    "In this case I would recommend rejecting the NULL hypothesis. I would expect that in the general population a Gentoo Penguins weight will likley vary depending on their sex. On the plots earlier we can see Males are generally heavier than females. The results of the ttest support this."
   ]
  },
  {
   "cell_type": "markdown",
   "id": "d33c8bae",
   "metadata": {},
   "source": [
    "### Acknowledgments\n",
    "\n",
    "Ian McLoughlin ATU.ie MLAS lecture notes. For much of the code and inspiration for the rest.\n",
    "\n",
    "Palmer Archipelago (Antarctica) penguin data. For making the penguins dataset available for use. https://www.kaggle.com/datasets/parulpandey/palmer-archipelago-antarctica-penguin-data\n",
    "Data were collected and made available by Dr. Kristen Gorman and the Palmer Station, Antarctica LTER, a member of the Long Term Ecological Research Network."
   ]
  },
  {
   "cell_type": "markdown",
   "id": "8aa32486",
   "metadata": {},
   "source": [
    "### References\n",
    "[1]<a id='ref1'></a> (title, website.ie, Month Year) Retrieved from: https://en.wikipedia.org/wiki/Student%27s_t-test\n",
    "\n",
    "[2]<a id='ref2'></a> (Normal distribution, Wikipedia, Oct 2023) Retreived from: https://en.wikipedia.org/wiki/Normal_distribution\n",
    "\n",
    "[3]<a id='ref3'></a> (Investopedia.com, What Is T-Distribution in Probability? How Do You Use It? Oct 2023) Retreived from: https://www.investopedia.com/terms/t/tdistribution.asp#toc-what-is-a-t-distribution\n",
    "\n",
    "[4]<a id='ref4'></a> (Normal Distributions (Bell Curve): Definition, Word Problems, Stephanie Glen, NOv 2022) Retrieved from: https://www.statisticshowto.com/probability-and-statistics/normal-distributions/#whatisND\n",
    "  \n",
    "[5]<a id='ref5'></a> (statistics.laerd.com, Independent t-test using SPSS Statistics, Oct 2023) https://statistics.laerd.com/spss-tutorials/independent-t-test-using-spss-statistics.php\n",
    "  \n",
    "[6]<a id='ref6'></a>(MLAS lecture notes, Ian McLoughlin, Oct 2023) Retreived from: ATU.ie lectures\n",
    "\n",
    "[7]<a id='ref7'></a>(W3Schools.com, Normal (Gaussian) Distribution, Oct 2023) Retreived from: https://www.w3schools.com/python/numpy/numpy_random_normal.asp\n",
    "\n",
    "[8]<a id='ref8'></a>(sharpsightlabs.com, A Quick Introduction to Numpy Random Normal, Joshua Ebner, Oct 2023) Retreived from: https://www.sharpsightlabs.com/blog/np-random-randn-explained/\n",
    "\n",
    "[9]<a id='ref9'></a>(Numpy.org, Random sampling, Oct 2023) Retreived from: https://numpy.org/devdocs/reference/random/index.html#quick-start\n",
    "\n",
    "[10]<a id='ref10'></a> (seaborn.pydata.org, seaborn.load_dataset, Oct 2023) Retreived from: https://seaborn.pydata.org/generated/seaborn.load_dataset.html\n",
    "\n",
    "[11]<a id='ref11'></a>(docs.scipy.org, scipy.stats.ttest_ind, Oct 2023) Retreived from:   https://docs.scipy.org/doc/scipy/reference/generated/scipy.stats.ttest_ind.html\n",
    "\n",
    "[12]<a id='ref12'></a> (Youtube.com, T-test, ANOVA and Chi Squared test made easy, Global Health with Greg Martin, Oct 2023) Retreived from: https://www.youtube.com/watch?v=ijeEYFnS2v4\n",
    "\n",
    "[13]<a id='ref12'></a> (youtube.com, Python for Data Analysis: Hypothesis Testing and T-Tests, DataDaft, Oct 2023) Retreived from: https://www.youtube.com/watch?v=CIbJSX-biu0\n",
    "\n",
    "[14]<a id='ref14'></a>(mathspluss.org, Probability distributions, Oct 2023) Retreived from: https://plus.maths.org/content/maths-minute-probability-distributions\n",
    "\n",
    "[15]<a id='ref15'></a>(Normal Distribution Definition and Properties, Prof. Essa, Nov 2015) Retrieved from: https://youtu.be/iMak-EW4HtM\n",
    "\n",
    "[16]<a id='ref16'></a>(Probability Density Function, wikipedia, Jan 2023) Retreived from: https://en.wikipedia.org/wiki/Probability_density_function\n"
   ]
  },
  {
   "cell_type": "code",
   "execution_count": null,
   "id": "d0ca9b16",
   "metadata": {},
   "outputs": [],
   "source": [
    "END"
   ]
  }
 ],
 "metadata": {
  "kernelspec": {
   "display_name": "Python 3 (ipykernel)",
   "language": "python",
   "name": "python3"
  },
  "language_info": {
   "codemirror_mode": {
    "name": "ipython",
    "version": 3
   },
   "file_extension": ".py",
   "mimetype": "text/x-python",
   "name": "python",
   "nbconvert_exporter": "python",
   "pygments_lexer": "ipython3",
   "version": "3.9.18"
  }
 },
 "nbformat": 4,
 "nbformat_minor": 5
}
