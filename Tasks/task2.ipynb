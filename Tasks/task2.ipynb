{
 "cells": [
  {
   "cell_type": "markdown",
   "id": "2d5b2c93",
   "metadata": {},
   "source": [
    "Topic 2: Chi-Square Tests"
   ]
  },
  {
   "cell_type": "markdown",
   "id": "d7c40f5b",
   "metadata": {},
   "source": [
    "### Task 2\n",
    "\n",
    "Part of assignments for the Machine Learning and Statistics modulel of the Higher Diploma in Science in Data Analytics course at ATU 2023\n",
    "\n",
    "Winter 23/24\n",
    "\n",
    "Author: Jarlath Scarry"
   ]
  },
  {
   "cell_type": "markdown",
   "id": "b7b660ee",
   "metadata": {},
   "source": [
    "### Task 2\n",
    "\n",
    "### Chi-square test\n",
    "\n",
    "> Consider the below contingency table based on a survey asking respondents whether they prefer coffee or tea and whether they prefer plain or chocolate biscuits. Use scipy.stats to perform a chi-squared test to see whether there is any evidence of an association between drink preference and biscuit preference in this instance.\n",
    "\n",
    "![images/task2_image1.PNG](images/task2_image1.PNG)\n",
    "\n"
   ]
  },
  {
   "cell_type": "markdown",
   "id": "74227fdc",
   "metadata": {},
   "source": [
    "### Assumptions for Chi-square test\n",
    "\n",
    "When you choose to analyse your data using a chi-square test for independence, you need to make sure that the data you want to analyse \"passes\" two assumptions. You need to do this because it is only appropriate to use a chi-square test for independence if your data passes these two assumptions. If it does not, you cannot use a chi-square test for independence. These two assumptions are:\n",
    "\n",
    "Assumption #1:\n",
    "Your two variables should be measured at an ordinal or nominal level (i.e., categorical data). You can learn more about ordinal and nominal variables in our article: Types of Variable.\n",
    "\n",
    "Assumption #2:\n",
    "Your two variable should consist of two or more categorical, independent groups. Example independent variables that meet this criterion include gender (2 groups: Males and Females), ethnicity (e.g., 3 groups: Caucasian, African American and Hispanic), physical activity level (e.g., 4 groups: sedentary, low, moderate and high), profession (e.g., 5 groups: surgeon, doctor, nurse, dentist, therapist), and so forth. These independent groups should not have any overlap. For example Tea or coffee drinker, Well sometimes I drink Tea, and sometimes Coffee. This is not accepted. The choice should be either or.\n",
    "\n",
    "In the section, Procedure, we illustrate the SPSS Statistics procedure to perform a chi-square test for independence. First, we introduce the example that is used in this guide.\n",
    "\n",
    "[[1]](#ref1) (statistics.laerd.com Chi-Square Test for Association using SPSS Statistics Oct 2023)\n",
    "\n",
    "\n",
    "We have Two variables which are cross tabulated on the table. One variable is Drinks with a choice of Tea or Coffee on the Verticle axis on the Left, and the other Variable is Bisciuts with ca choice of Chocolate or Plain on the horizontal axis at the top."
   ]
  },
  {
   "cell_type": "markdown",
   "id": "a656f9af",
   "metadata": {},
   "source": [
    "### Chi-Square Tests\n",
    "\n",
    "    \n",
    "### Laerd Statistics Chi-Square Test for Independence\n"
   ]
  },
  {
   "cell_type": "markdown",
   "id": "8baf82ec",
   "metadata": {},
   "source": [
    "### Data for the test\n",
    "Data is generated from the results table above.  It is done in a few steps below using pandas, and generated results are shuffled to make them look more as expected."
   ]
  },
  {
   "cell_type": "code",
   "execution_count": 45,
   "id": "4695b00d",
   "metadata": {},
   "outputs": [],
   "source": [
    "import pandas as pd\n",
    "import random\n",
    "\n",
    "import scipy.stats as ss\n",
    "from scipy.stats.contingency import crosstab\n",
    "\n",
    "\n",
    "coffee_chocolate = [['Coffee','Chocolate']]*43\n",
    "coffee_plain = [['Coffee','Plain']]*57\n",
    "tea_chocolate = [['Tea','Chocolate']]*56\n",
    "tea_plain = [['Tea','Chocolate']]*56\n",
    "\n",
    "raw_data = coffee_chocolate + coffee_plain + tea_chocolate + tea_plain\n",
    "#shuffle the data\n",
    "random.shuffle(raw_data)\n",
    "# Zip the list - make the rows columns and the columns rows\n",
    "# Interchange the outer and inner lists\n",
    "drink, biscuit = list(zip(*raw_data))  #2 lists, one with deing and one with biscuits.\n",
    "\n",
    "# create a data frame\n",
    "df = pd.DataFrame({'drink': drink, 'biscuit': biscuit})\n",
    "\n",
    "df  # df generated from the table in the question.\n",
    "df.to_csv('data\\survey_task2.csv') "
   ]
  },
  {
   "cell_type": "markdown",
   "id": "8c507afb",
   "metadata": {},
   "source": [
    "## Contingency Table\n",
    "\n",
    "Contingency tables are used in statistics to summarize the relationship between several categorical variables. In our example, The Contingency table between the two variables \"Drinks \" and \"Biscuits\" is a Frequency table of these variables presented simultaneously. A chi-squared test conducted on a contingency table can test whether or not a relationship exists between variables. These effects are defined as relationships between rows and columns.\n",
    "\n",
    "[[2]](#ref2)(stackoverflow.com, How to understand the chi square contingency table, Oct 2023)\n",
    "\n",
    "The Contingency Table function produces a table of the joint distribution of two categorical variables. This technique is often used to analyze survey data such as in our small survey.\n",
    "\n",
    "[[3]](#ref3)(scipy.org, scipy.stats.contingency.crosstab, Oct 2023)\n",
    "\n",
    "scipy.stats.contingency.crosstab\n",
    "\n",
    "> This function computes the chi-square statistic and p-value for the hypothesis test of independence of the observed frequencies in the contingency table observed. [[4]](#ref4) (Wikipedia.org, Contingency table, Oct 2023) \n",
    "\n",
    "> The expected frequencies are computed based on the marginal sums under the assumption of independence; see scipy.stats.contingency.expected_freq. The number of degrees of freedom is (expressed using numpy functions and attributes).\n",
    "\n",
    "It returns a table of counts for each possible unique combination in the argument\n"
   ]
  },
  {
   "cell_type": "code",
   "execution_count": 46,
   "id": "fdd77be7",
   "metadata": {
    "scrolled": false
   },
   "outputs": [],
   "source": [
    "#cross = pd.crosstab(index=df['drink'], columns=df['biscuit'])\n",
    "#cross"
   ]
  },
  {
   "cell_type": "code",
   "execution_count": 47,
   "id": "d18562dd",
   "metadata": {},
   "outputs": [
    {
     "data": {
      "text/plain": [
       "CrosstabResult(elements=(array(['Coffee', 'Tea'], dtype=object), array(['Chocolate', 'Plain'], dtype=object)), count=array([[ 43,  57],\n",
       "       [112,   0]]))"
      ]
     },
     "execution_count": 47,
     "metadata": {},
     "output_type": "execute_result"
    }
   ],
   "source": [
    "# Perform Crosstabs Contingency.\n",
    "\n",
    "cross = ss.contingency.crosstab(df['drink'], df['biscuit'])\n",
    "# Show.\n",
    "cross\n",
    "\n"
   ]
  },
  {
   "cell_type": "code",
   "execution_count": 48,
   "id": "55e7c356",
   "metadata": {
    "scrolled": false
   },
   "outputs": [
    {
     "data": {
      "text/plain": [
       "(array(['Coffee', 'Tea'], dtype=object),\n",
       " array(['Chocolate', 'Plain'], dtype=object))"
      ]
     },
     "execution_count": 48,
     "metadata": {},
     "output_type": "execute_result"
    }
   ],
   "source": [
    "first, second = cross.elements\n",
    "first, second"
   ]
  },
  {
   "cell_type": "code",
   "execution_count": 49,
   "id": "cbf4466d",
   "metadata": {},
   "outputs": [
    {
     "data": {
      "text/plain": [
       "array([[ 43,  57],\n",
       "       [112,   0]])"
      ]
     },
     "execution_count": 49,
     "metadata": {},
     "output_type": "execute_result"
    }
   ],
   "source": [
    "cross.count"
   ]
  },
  {
   "cell_type": "code",
   "execution_count": 50,
   "id": "e53601ab",
   "metadata": {},
   "outputs": [
    {
     "name": "stdout",
     "output_type": "stream",
     "text": [
      "SciPy version: 1.11.3\n"
     ]
    }
   ],
   "source": [
    "import scipy\n",
    "print('SciPy version:', scipy.__version__)"
   ]
  },
  {
   "cell_type": "code",
   "execution_count": 51,
   "id": "cc39286f",
   "metadata": {},
   "outputs": [
    {
     "data": {
      "text/html": [
       "<div>\n",
       "<style scoped>\n",
       "    .dataframe tbody tr th:only-of-type {\n",
       "        vertical-align: middle;\n",
       "    }\n",
       "\n",
       "    .dataframe tbody tr th {\n",
       "        vertical-align: top;\n",
       "    }\n",
       "\n",
       "    .dataframe thead th {\n",
       "        text-align: right;\n",
       "    }\n",
       "</style>\n",
       "<table border=\"1\" class=\"dataframe\">\n",
       "  <thead>\n",
       "    <tr style=\"text-align: right;\">\n",
       "      <th></th>\n",
       "      <th>drink</th>\n",
       "      <th>biscuit</th>\n",
       "    </tr>\n",
       "  </thead>\n",
       "  <tbody>\n",
       "    <tr>\n",
       "      <th>0</th>\n",
       "      <td>Coffee</td>\n",
       "      <td>Plain</td>\n",
       "    </tr>\n",
       "    <tr>\n",
       "      <th>2</th>\n",
       "      <td>Coffee</td>\n",
       "      <td>Plain</td>\n",
       "    </tr>\n",
       "    <tr>\n",
       "      <th>4</th>\n",
       "      <td>Coffee</td>\n",
       "      <td>Plain</td>\n",
       "    </tr>\n",
       "    <tr>\n",
       "      <th>5</th>\n",
       "      <td>Coffee</td>\n",
       "      <td>Chocolate</td>\n",
       "    </tr>\n",
       "    <tr>\n",
       "      <th>10</th>\n",
       "      <td>Coffee</td>\n",
       "      <td>Chocolate</td>\n",
       "    </tr>\n",
       "    <tr>\n",
       "      <th>...</th>\n",
       "      <td>...</td>\n",
       "      <td>...</td>\n",
       "    </tr>\n",
       "    <tr>\n",
       "      <th>202</th>\n",
       "      <td>Coffee</td>\n",
       "      <td>Plain</td>\n",
       "    </tr>\n",
       "    <tr>\n",
       "      <th>204</th>\n",
       "      <td>Coffee</td>\n",
       "      <td>Plain</td>\n",
       "    </tr>\n",
       "    <tr>\n",
       "      <th>205</th>\n",
       "      <td>Coffee</td>\n",
       "      <td>Chocolate</td>\n",
       "    </tr>\n",
       "    <tr>\n",
       "      <th>207</th>\n",
       "      <td>Coffee</td>\n",
       "      <td>Plain</td>\n",
       "    </tr>\n",
       "    <tr>\n",
       "      <th>209</th>\n",
       "      <td>Coffee</td>\n",
       "      <td>Chocolate</td>\n",
       "    </tr>\n",
       "  </tbody>\n",
       "</table>\n",
       "<p>100 rows × 2 columns</p>\n",
       "</div>"
      ],
      "text/plain": [
       "      drink    biscuit\n",
       "0    Coffee      Plain\n",
       "2    Coffee      Plain\n",
       "4    Coffee      Plain\n",
       "5    Coffee  Chocolate\n",
       "10   Coffee  Chocolate\n",
       "..      ...        ...\n",
       "202  Coffee      Plain\n",
       "204  Coffee      Plain\n",
       "205  Coffee  Chocolate\n",
       "207  Coffee      Plain\n",
       "209  Coffee  Chocolate\n",
       "\n",
       "[100 rows x 2 columns]"
      ]
     },
     "execution_count": 51,
     "metadata": {},
     "output_type": "execute_result"
    }
   ],
   "source": [
    "df[df['drink'] == first[0]]"
   ]
  },
  {
   "cell_type": "markdown",
   "id": "39df6c9d",
   "metadata": {},
   "source": [
    "####  Statistical Test\n",
    "\n",
    "> Chi-square test of independence of variables in a contingency table. [[5]](#ref5)(scipy.org, scipy.stats.chi2_contingency, Oct 2023) \n",
    "\n",
    "> This function computes the chi-square statistic and p-value for the hypothesis test of independence of the observed frequencies in the contingency table [1] observed. The expected frequencies are computed based on the marginal sums under the assumption of independence; see scipy.stats.contingency.expected_freq. The number of degrees of freedom is (expressed using numpy functions and attributes):\n",
    "\n",
    "\n",
    "#### In our case the paramaters are:\n",
    "\n",
    "    The array\n",
    "    \n",
    "    Correction value.  When set to false this prevents the function from applying the Yates correction\n",
    "  \n",
    "> In statistics, Yates's correction for continuity (or Yates's chi-squared test) is used in certain situations when testing for independence in a contingency table. It aims at correcting the error introduced by assuming that the discrete probabilities of frequencies in the table can be approximated by a continuous distribution (chi-squared). In some cases, Yates's correction may adjust too far, and so its current use is limited. [[6]](#ref6)(wikipedia.org, Yates's correction for continuity, Oct 2023) https://en.wikipedia.org/wiki/Yates%27s_correction_for_continuity \n",
    "\n",
    "> Like scipy.stats.chisquare, this function computes a chi-square statistic; the convenience this function provides is to figure out the expected frequencies and degrees of freedom from the given contingency table.\n",
    "\n",
    "    dof degrees of freedom.   \n",
    "   "
   ]
  },
  {
   "cell_type": "code",
   "execution_count": 52,
   "id": "c77c25f0",
   "metadata": {
    "scrolled": false
   },
   "outputs": [
    {
     "data": {
      "text/plain": [
       "Chi2ContingencyResult(statistic=87.31664516129032, pvalue=9.24664373812942e-21, dof=1, expected_freq=array([[73.11320755, 26.88679245],\n",
       "       [81.88679245, 30.11320755]]))"
      ]
     },
     "execution_count": 52,
     "metadata": {},
     "output_type": "execute_result"
    }
   ],
   "source": [
    "#the contingency table\n",
    "cross.count\n",
    "\n",
    "# Do the statistics. Just do them.\n",
    "Chi2ContingencyResult = ss.chi2_contingency(cross.count, correction=False) ##chi2_contingency is the function that does the chi2 test for independence. \n",
    "\n",
    "# Show.\n",
    "Chi2ContingencyResult"
   ]
  },
  {
   "cell_type": "markdown",
   "id": "6535ba5b",
   "metadata": {},
   "source": [
    "### Results\n",
    "\n",
    "#### Expected results?\n",
    "What results would we expect to see? Well we can see the \"expected frequency\" data already on the results table. This can also be quickly calculate this using the `expected_freq` function.  This returns the expected frequencies based on the marginal sums of the table. It shows a results table the same shape as the original table observed. \n",
    "\n",
    "The expected results show what result we should expect to see in a table of independent groups. In this case the expected results can be seen in the table below. For example we would expect to see around 73 people to respond saying they would like Coffee with a Chocolate biscuit.\n",
    "       \n",
    "[[5]](#ref5)(scipy.org, scipy.stats.chi2_contingency, Oct 2023)  "
   ]
  },
  {
   "cell_type": "code",
   "execution_count": 53,
   "id": "51136963",
   "metadata": {
    "scrolled": true
   },
   "outputs": [
    {
     "data": {
      "text/html": [
       "<style type=\"text/css\">\n",
       "</style>\n",
       "<table id=\"T_191a1\">\n",
       "  <caption>Expected result</caption>\n",
       "  <thead>\n",
       "    <tr>\n",
       "      <th class=\"blank level0\" >&nbsp;</th>\n",
       "      <th id=\"T_191a1_level0_col0\" class=\"col_heading level0 col0\" >Chocolate</th>\n",
       "      <th id=\"T_191a1_level0_col1\" class=\"col_heading level0 col1\" >Plain</th>\n",
       "    </tr>\n",
       "  </thead>\n",
       "  <tbody>\n",
       "    <tr>\n",
       "      <th id=\"T_191a1_level0_row0\" class=\"row_heading level0 row0\" >Coffee</th>\n",
       "      <td id=\"T_191a1_row0_col0\" class=\"data row0 col0\" >73.113208</td>\n",
       "      <td id=\"T_191a1_row0_col1\" class=\"data row0 col1\" >26.886792</td>\n",
       "    </tr>\n",
       "    <tr>\n",
       "      <th id=\"T_191a1_level0_row1\" class=\"row_heading level0 row1\" >Tea</th>\n",
       "      <td id=\"T_191a1_row1_col0\" class=\"data row1 col0\" >81.886792</td>\n",
       "      <td id=\"T_191a1_row1_col1\" class=\"data row1 col1\" >30.113208</td>\n",
       "    </tr>\n",
       "  </tbody>\n",
       "</table>\n"
      ],
      "text/plain": [
       "<pandas.io.formats.style.Styler at 0x20cd2281070>"
      ]
     },
     "execution_count": 53,
     "metadata": {},
     "output_type": "execute_result"
    }
   ],
   "source": [
    "import numpy\n",
    "expected = Chi2ContingencyResult.expected_freq\n",
    "numpy.savetxt(\"data\\expected_task2.csv\", expected, delimiter=\",\")\n",
    "title = 'Expected result'\n",
    "expected_df = pd.DataFrame(expected,columns=['Chocolate','Plain'],index=['Coffee', 'Tea'])\n",
    "expected_df = expected_df.style.set_caption(title)\n",
    "expected_df"
   ]
  },
  {
   "cell_type": "markdown",
   "id": "624bee86",
   "metadata": {},
   "source": [
    "#### Actual survey results\n",
    "<img src=\"images/task2_image1.PNG\" align=\"left\"/>"
   ]
  },
  {
   "cell_type": "markdown",
   "id": "eea95b20",
   "metadata": {},
   "source": [
    "### Actual results\n",
    "\n",
    "The function returns a results  `object` containing the following attributes:\n",
    "\n",
    "  statistic float:  The test statistic. = `statistic=87.31664516129032`\n",
    "\n",
    "  pvalue float: The p-value of the test. = `pvalue=9.24664373812942e-21`\n",
    "\n",
    "  dof int: The degrees of freedom.\n",
    "       This is generally calculated as `dof` = (number of rows - 1) * (number of columns - 1) =`dof=1`\n",
    "\n",
    "  expected_freqndarray, same shape as observed\n",
    "        The expected frequencies, based on the marginal sums of the table.\n",
    "\n",
    "[[5]](#ref5)(scipy.org, scipy.stats.chi2_contingency, Oct 2023) "
   ]
  },
  {
   "cell_type": "markdown",
   "id": "1b567811",
   "metadata": {},
   "source": [
    "### interpreting the results\n",
    "\n",
    "In the Chi-squared test for independence we are testing if there is a difference in the proportions across different cattegories.\n",
    "\n",
    "Is the choice of a plain or chocolate biscuit dependant on the drink chosen? Does knowing what Drink a person chooses tell us anything about what biscuit the might like? Looking at the data it appears that somone chhosing Tea is more likley to choose a Chocolate biscuit, but we can check this with the Chi-squared test for independence. \n",
    "\n",
    "If we assume at the outset that there is no difference between whether a person likes Tea or Coffee with either Plain or Chocolate biscuits, and take this to be k0, or the NULL hypothesis. If this is true what are the chances that the sample data we have would fit that hypothesis? We need to set the treshold for this hypothesis. If we pass the treshold we reject the NULL hypothesis. \n",
    "\n",
    "So we can take it that a p-value of less than 5% (p-value<0.05) means the result is statistically significant. In otherwords we reject the NULL hypothesis and accept that the sample data is representitive of the overall population. That if a person chooses Tea, they are likley to have a chocolate biscuit. Our p-value is far lower than 5% so we should accept the alternative hypothesis. In other words our assunption that the groups are independent is false based on out survey."
   ]
  },
  {
   "cell_type": "markdown",
   "id": "8fdfebd1",
   "metadata": {},
   "source": [
    "### Conclusion\n",
    "\n",
    " For a Chi-square test, a p-value that is less than or equal to your significance level indicates there is sufficient evidence to conclude that the observed distribution is not the same as the expected distribution. You can conclude that a relationship exists between the categorical variables. [[7]](#ref7)(statisticsbyjim.com, Chi-Square Test of Independence and an Example, Oct 2023) \n",
    " \n",
    "Our p-value is far lower than 5% so we should accept the alternative hypothesis. In other words our assunption that the groups are independent is false based on out survey.\n",
    "\n",
    "So we should conclude that if somone chooses Tea to drink they are more likley to have a Chocolate biscuit.\n",
    " \n",
    "The p-value is the evidence against a null hypothesis. The smaller the p-value, the strong the evidence that you should reject the null hypothesis. [[8]](#ref8)(stackoverflow.com, how to understand the chi square contingency table, Oct 2023) \n",
    "\n"
   ]
  },
  {
   "cell_type": "markdown",
   "id": "aaffa921",
   "metadata": {},
   "source": [
    "### Acknowledgments\n",
    "\n",
    "Ian McLoughlin ATU.ie MLAS lecture notes. For much of the code and inspiration for the rest."
   ]
  },
  {
   "cell_type": "markdown",
   "id": "ba0fe95f",
   "metadata": {},
   "source": [
    "### References\n",
    "\n",
    "[1]<a id='ref1'></a> (statistics.laerd.com Chi-Square Test for Association using SPSS Statistics Oct 2023) https://statistics.laerd.com/spss-tutorials/chi-square-test-for-association-using-spss-statistics.php\n",
    "\n",
    "[2]<a id='ref2'></a> (stackoverflow.com How to understand the chi square contingency table, Oct 2023)\n",
    "https://stackoverflow.com/questions/52692315/how-to-understand-the-chi-square-contingency-table\n",
    "\n",
    "[3]<a id='ref3'></a>(scipy.org, scipy.stats.contingency.crosstab, Oct 2023)\n",
    "https://docs.scipy.org/doc/scipy/reference/generated/scipy.stats.contingency.crosstab.html\n",
    "\n",
    "[4]<a id='ref4'></a>(Wikipedia.org, Contingency table, Oct 2023) https://en.wikipedia.org/wiki/Contingency_table \n",
    "\n",
    "[5]<a id='ref5'></a>(scipy.org, scipy.stats.chi2_contingency, Oct 2023) https://docs.scipy.org/doc/scipy/reference/generated/scipy.stats.chi2_contingency.html\n",
    "\n",
    "[6]<a id='ref6'></a>(wikipedia.org, Yates's correction for continuity, Oct 2023) https://en.wikipedia.org/wiki/Yates%27s_correction_for_continuity\n",
    "\n",
    "[7]<a id='ref7'></a>(statisticsbyjim.com, Chi-Square Test of Independence and an Example, Oct 2023) https://statisticsbyjim.com/hypothesis-testing/chi-square-test-independence-example/#:~:text=For%20a%20Chi%2Dsquare%20test,exists%20between%20the%20categorical%20variables. \n",
    "\n",
    "[8]<a id='ref8'></a>(stackoverflow.com, how to understand the chi square contingency table, Oct 2023) https://stackoverflow.com/questions/52692315/how-to-understand-the-chi-square-contingency-table\n"
   ]
  },
  {
   "cell_type": "markdown",
   "id": "058a0aa1",
   "metadata": {},
   "source": [
    "END"
   ]
  },
  {
   "cell_type": "code",
   "execution_count": null,
   "id": "ad49b512",
   "metadata": {},
   "outputs": [],
   "source": []
  }
 ],
 "metadata": {
  "kernelspec": {
   "display_name": "Python 3 (ipykernel)",
   "language": "python",
   "name": "python3"
  },
  "language_info": {
   "codemirror_mode": {
    "name": "ipython",
    "version": 3
   },
   "file_extension": ".py",
   "mimetype": "text/x-python",
   "name": "python",
   "nbconvert_exporter": "python",
   "pygments_lexer": "ipython3",
   "version": "3.9.18"
  }
 },
 "nbformat": 4,
 "nbformat_minor": 5
}
