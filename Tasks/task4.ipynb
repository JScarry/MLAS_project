{
 "cells": [
  {
   "cell_type": "markdown",
   "id": "6d2a78d6",
   "metadata": {},
   "source": [
    "Topic 4: k Nearest Neighbours"
   ]
  },
  {
   "cell_type": "markdown",
   "id": "15d056ef",
   "metadata": {},
   "source": [
    "## Task 4\n",
    "\n",
    "Using the famous iris data set suggest whether the setosa class is easily separable from the other two classes. Provide evidence for your answer."
   ]
  },
  {
   "cell_type": "markdown",
   "id": "ea98342f",
   "metadata": {},
   "source": [
    "### Content\n",
    "\n",
    "In this exercise we aim to train a machine learning model that can take in feature data from the iris dataset and test the accuracy of the model when it tries to predict which of the three flower varieties a set of features are from.\n",
    "\n",
    "The inputs are recorded measurments of the flowers featurse under the column headings: sepal_length, sepal_width, petal_length and petal_width. The varieties are setosa, versicolor and verginica under the heading class.\n",
    "\n",
    "###  scikit-learn\n",
    "\n",
    "We will use the sikit-learn. Scikit-learn is a machine learning library in Python. It is built on NumPy and SciPy and it contains a wide range of tools for machine learning, including: classification, regression, clustering, and dimension reduction tasks. It is a popular choice for machine learning beginners as it has good documentation and a broad library of functions. It is an excellent platform for learning. The package in python is actually called `sklearn`. This shorter name is helpful as it avoids confusion with extra charachters. It is generally included with annaconda so no need to install it seperatley.\n",
    "\n",
    ">Scikit-learn is an open source machine learning library that supports supervised and unsupervised learning. It also provides various tools for model fitting, data preprocessing, model selection, model evaluation, and many other utilities.\n",
    "\n",
    " [[401]](#ref401) (scikit-learn.org, Getting Started, Nov 2023)\n",
    "\n",
    "\n",
    "### sikit-learn fit method\n",
    "\n",
    "The scikit-learn `fit()` method is used to train or teach the learning model on a specific dataset. The model begins with default settings that may not be good at predicting the type of flower without any knowledge of flowers. Instead of using its previous knowlodge it learns the patterns in the data and uses those patterns to make predictions on new data. A training step with a fit method is required for most machine learning models before they can be used to make predictions."
   ]
  },
  {
   "cell_type": "markdown",
   "id": "8cae5163",
   "metadata": {},
   "source": [
    "## Start coding"
   ]
  },
  {
   "cell_type": "code",
   "execution_count": 27,
   "id": "812c551a",
   "metadata": {},
   "outputs": [],
   "source": [
    "#imports required to run the notebook code\n",
    "import numpy as np\n",
    "import pandas as pd\n",
    "import seaborn as sns\n",
    "from sklearn.model_selection import train_test_split\n",
    "import matplotlib.pyplot as plt\n",
    "from sklearn.neighbors import KNeighborsClassifier\n",
    "from sklearn.metrics import classification_report\n",
    "import math"
   ]
  },
  {
   "cell_type": "markdown",
   "id": "aaf62aa1",
   "metadata": {},
   "source": [
    "Lets have a look at the data and check for null values. "
   ]
  },
  {
   "cell_type": "code",
   "execution_count": 28,
   "id": "924077a0",
   "metadata": {},
   "outputs": [
    {
     "data": {
      "text/html": [
       "<div>\n",
       "<style scoped>\n",
       "    .dataframe tbody tr th:only-of-type {\n",
       "        vertical-align: middle;\n",
       "    }\n",
       "\n",
       "    .dataframe tbody tr th {\n",
       "        vertical-align: top;\n",
       "    }\n",
       "\n",
       "    .dataframe thead th {\n",
       "        text-align: right;\n",
       "    }\n",
       "</style>\n",
       "<table border=\"1\" class=\"dataframe\">\n",
       "  <thead>\n",
       "    <tr style=\"text-align: right;\">\n",
       "      <th></th>\n",
       "      <th>sepal_length</th>\n",
       "      <th>sepal_width</th>\n",
       "      <th>petal_length</th>\n",
       "      <th>petal_width</th>\n",
       "      <th>class</th>\n",
       "    </tr>\n",
       "  </thead>\n",
       "  <tbody>\n",
       "    <tr>\n",
       "      <th>0</th>\n",
       "      <td>5.1</td>\n",
       "      <td>3.5</td>\n",
       "      <td>1.4</td>\n",
       "      <td>0.2</td>\n",
       "      <td>setosa</td>\n",
       "    </tr>\n",
       "    <tr>\n",
       "      <th>1</th>\n",
       "      <td>4.9</td>\n",
       "      <td>3.0</td>\n",
       "      <td>1.4</td>\n",
       "      <td>0.2</td>\n",
       "      <td>setosa</td>\n",
       "    </tr>\n",
       "    <tr>\n",
       "      <th>2</th>\n",
       "      <td>4.7</td>\n",
       "      <td>3.2</td>\n",
       "      <td>1.3</td>\n",
       "      <td>0.2</td>\n",
       "      <td>setosa</td>\n",
       "    </tr>\n",
       "    <tr>\n",
       "      <th>3</th>\n",
       "      <td>4.6</td>\n",
       "      <td>3.1</td>\n",
       "      <td>1.5</td>\n",
       "      <td>0.2</td>\n",
       "      <td>setosa</td>\n",
       "    </tr>\n",
       "    <tr>\n",
       "      <th>4</th>\n",
       "      <td>5.0</td>\n",
       "      <td>3.6</td>\n",
       "      <td>1.4</td>\n",
       "      <td>0.2</td>\n",
       "      <td>setosa</td>\n",
       "    </tr>\n",
       "  </tbody>\n",
       "</table>\n",
       "</div>"
      ],
      "text/plain": [
       "   sepal_length  sepal_width  petal_length  petal_width   class\n",
       "0           5.1          3.5           1.4          0.2  setosa\n",
       "1           4.9          3.0           1.4          0.2  setosa\n",
       "2           4.7          3.2           1.3          0.2  setosa\n",
       "3           4.6          3.1           1.5          0.2  setosa\n",
       "4           5.0          3.6           1.4          0.2  setosa"
      ]
     },
     "execution_count": 28,
     "metadata": {},
     "output_type": "execute_result"
    }
   ],
   "source": [
    "iris = pd.read_csv(r\"..\\data\\iris.csv\")\n",
    "iris.head()"
   ]
  },
  {
   "cell_type": "code",
   "execution_count": 29,
   "id": "3d24723b",
   "metadata": {
    "scrolled": true
   },
   "outputs": [
    {
     "name": "stdout",
     "output_type": "stream",
     "text": [
      "<class 'pandas.core.frame.DataFrame'>\n",
      "RangeIndex: 150 entries, 0 to 149\n",
      "Data columns (total 5 columns):\n",
      " #   Column        Non-Null Count  Dtype  \n",
      "---  ------        --------------  -----  \n",
      " 0   sepal_length  150 non-null    float64\n",
      " 1   sepal_width   150 non-null    float64\n",
      " 2   petal_length  150 non-null    float64\n",
      " 3   petal_width   150 non-null    float64\n",
      " 4   class         150 non-null    object \n",
      "dtypes: float64(4), object(1)\n",
      "memory usage: 6.0+ KB\n"
     ]
    }
   ],
   "source": [
    "iris.info()"
   ]
  },
  {
   "cell_type": "code",
   "execution_count": 30,
   "id": "d3185011",
   "metadata": {},
   "outputs": [
    {
     "data": {
      "text/plain": [
       "False"
      ]
     },
     "execution_count": 30,
     "metadata": {},
     "output_type": "execute_result"
    }
   ],
   "source": [
    "iris.isnull().values.any()"
   ]
  },
  {
   "cell_type": "markdown",
   "id": "755175bf",
   "metadata": {},
   "source": [
    "The data is quite short with just 150 entries but no null (or `NaN`) values. This is good, because we don't need to worry about our results being skewed by empty cells. We can see column headings from the data `head()` output. Varieties are under the heading `class`. The other feature headings can also be seen. We will need these too.\n",
    "\n",
    "To carryout a split train and learn on the data we need separate out the target variable. In this case we are looking to predict class, so we seperate it out as y. The feature data we are using to predict the class is seperated to the variable X. After that we will split the dataset out into training (70%) and testing (30%) sets using the `train_test_split()` function from sikit-learn"
   ]
  },
  {
   "cell_type": "code",
   "execution_count": 31,
   "id": "47be18c3",
   "metadata": {},
   "outputs": [],
   "source": [
    "# Separate out the target variable. In this case we are looking to predict class, so we seperate it out as y. \n",
    "# The feature data we are using to predict the class is seperated to the variable X. \n",
    "X = iris[['sepal_length', 'sepal_width', 'petal_length', 'petal_width']]\n",
    "y = iris['class']"
   ]
  },
  {
   "cell_type": "code",
   "execution_count": 32,
   "id": "fdcf1e91",
   "metadata": {},
   "outputs": [],
   "source": [
    "#https://scikit-learn.org/stable/modules/generated/sklearn.model_selection.train_test_split.html\n",
    "#sklearn.model_selection.train_test_split(*arrays, test_size=None, train_size=None, random_state=None, shuffle=True, stratify=None)\n",
    "\n",
    "#Slpit the dataset into training (70%) and testing (30%) sets.\n",
    "X_train, X_test, y_train, y_test = train_test_split(X, y, test_size=0.3, shuffle=True)"
   ]
  },
  {
   "cell_type": "markdown",
   "id": "672acf82",
   "metadata": {},
   "source": [
    "Below using the data `head()` function again we can see the `X_train` and `X_test` sets contain the same data for different selected rows. Also notice the class that we wish to predice is now missing. This is seperated into the `y` datasets. "
   ]
  },
  {
   "cell_type": "code",
   "execution_count": 33,
   "id": "83318183",
   "metadata": {},
   "outputs": [
    {
     "data": {
      "text/html": [
       "<div>\n",
       "<style scoped>\n",
       "    .dataframe tbody tr th:only-of-type {\n",
       "        vertical-align: middle;\n",
       "    }\n",
       "\n",
       "    .dataframe tbody tr th {\n",
       "        vertical-align: top;\n",
       "    }\n",
       "\n",
       "    .dataframe thead th {\n",
       "        text-align: right;\n",
       "    }\n",
       "</style>\n",
       "<table border=\"1\" class=\"dataframe\">\n",
       "  <thead>\n",
       "    <tr style=\"text-align: right;\">\n",
       "      <th></th>\n",
       "      <th>sepal_length</th>\n",
       "      <th>sepal_width</th>\n",
       "      <th>petal_length</th>\n",
       "      <th>petal_width</th>\n",
       "    </tr>\n",
       "  </thead>\n",
       "  <tbody>\n",
       "    <tr>\n",
       "      <th>34</th>\n",
       "      <td>4.9</td>\n",
       "      <td>3.1</td>\n",
       "      <td>1.5</td>\n",
       "      <td>0.1</td>\n",
       "    </tr>\n",
       "    <tr>\n",
       "      <th>134</th>\n",
       "      <td>6.1</td>\n",
       "      <td>2.6</td>\n",
       "      <td>5.6</td>\n",
       "      <td>1.4</td>\n",
       "    </tr>\n",
       "    <tr>\n",
       "      <th>146</th>\n",
       "      <td>6.3</td>\n",
       "      <td>2.5</td>\n",
       "      <td>5.0</td>\n",
       "      <td>1.9</td>\n",
       "    </tr>\n",
       "    <tr>\n",
       "      <th>76</th>\n",
       "      <td>6.8</td>\n",
       "      <td>2.8</td>\n",
       "      <td>4.8</td>\n",
       "      <td>1.4</td>\n",
       "    </tr>\n",
       "    <tr>\n",
       "      <th>43</th>\n",
       "      <td>5.0</td>\n",
       "      <td>3.5</td>\n",
       "      <td>1.6</td>\n",
       "      <td>0.6</td>\n",
       "    </tr>\n",
       "  </tbody>\n",
       "</table>\n",
       "</div>"
      ],
      "text/plain": [
       "     sepal_length  sepal_width  petal_length  petal_width\n",
       "34            4.9          3.1           1.5          0.1\n",
       "134           6.1          2.6           5.6          1.4\n",
       "146           6.3          2.5           5.0          1.9\n",
       "76            6.8          2.8           4.8          1.4\n",
       "43            5.0          3.5           1.6          0.6"
      ]
     },
     "execution_count": 33,
     "metadata": {},
     "output_type": "execute_result"
    }
   ],
   "source": [
    "X_train.head()"
   ]
  },
  {
   "cell_type": "code",
   "execution_count": 34,
   "id": "4957142f",
   "metadata": {},
   "outputs": [
    {
     "data": {
      "text/html": [
       "<div>\n",
       "<style scoped>\n",
       "    .dataframe tbody tr th:only-of-type {\n",
       "        vertical-align: middle;\n",
       "    }\n",
       "\n",
       "    .dataframe tbody tr th {\n",
       "        vertical-align: top;\n",
       "    }\n",
       "\n",
       "    .dataframe thead th {\n",
       "        text-align: right;\n",
       "    }\n",
       "</style>\n",
       "<table border=\"1\" class=\"dataframe\">\n",
       "  <thead>\n",
       "    <tr style=\"text-align: right;\">\n",
       "      <th></th>\n",
       "      <th>sepal_length</th>\n",
       "      <th>sepal_width</th>\n",
       "      <th>petal_length</th>\n",
       "      <th>petal_width</th>\n",
       "    </tr>\n",
       "  </thead>\n",
       "  <tbody>\n",
       "    <tr>\n",
       "      <th>62</th>\n",
       "      <td>6.0</td>\n",
       "      <td>2.2</td>\n",
       "      <td>4.0</td>\n",
       "      <td>1.0</td>\n",
       "    </tr>\n",
       "    <tr>\n",
       "      <th>29</th>\n",
       "      <td>4.7</td>\n",
       "      <td>3.2</td>\n",
       "      <td>1.6</td>\n",
       "      <td>0.2</td>\n",
       "    </tr>\n",
       "    <tr>\n",
       "      <th>125</th>\n",
       "      <td>7.2</td>\n",
       "      <td>3.2</td>\n",
       "      <td>6.0</td>\n",
       "      <td>1.8</td>\n",
       "    </tr>\n",
       "    <tr>\n",
       "      <th>139</th>\n",
       "      <td>6.9</td>\n",
       "      <td>3.1</td>\n",
       "      <td>5.4</td>\n",
       "      <td>2.1</td>\n",
       "    </tr>\n",
       "    <tr>\n",
       "      <th>143</th>\n",
       "      <td>6.8</td>\n",
       "      <td>3.2</td>\n",
       "      <td>5.9</td>\n",
       "      <td>2.3</td>\n",
       "    </tr>\n",
       "  </tbody>\n",
       "</table>\n",
       "</div>"
      ],
      "text/plain": [
       "     sepal_length  sepal_width  petal_length  petal_width\n",
       "62            6.0          2.2           4.0          1.0\n",
       "29            4.7          3.2           1.6          0.2\n",
       "125           7.2          3.2           6.0          1.8\n",
       "139           6.9          3.1           5.4          2.1\n",
       "143           6.8          3.2           5.9          2.3"
      ]
     },
     "execution_count": 34,
     "metadata": {},
     "output_type": "execute_result"
    }
   ],
   "source": [
    "X_test.head()"
   ]
  },
  {
   "cell_type": "markdown",
   "id": "a56ff266",
   "metadata": {},
   "source": [
    "K-Nearest Neighbors (KNN) is an algorithm that can classify new data points based on the majority class of its k nearest neighbors in the training set. \n",
    "\n",
    "The k-value is an important parameter in KNN. It determines the number of nearest neighbors considered. The best k-value will differ based on the dataset can be optimised by experimentation\n",
    "\n",
    "[[402]](#ref402) (ibm.com, What is the k-nearest neighbors algorithm? Nov 2023)\n",
    "\n",
    ">What is a good value for K in KNN?\n",
    "How to find the optimal value of K in KNN? | by Amey Band ...\n",
    "The optimal K value usually found is the square root of N, where N is the total number of samples. Use an error plot or accuracy plot to find the most favorable K value. KNN performs well with multi-label classes, but you must be aware of the outliers.23 May 2020\n",
    "\n",
    "How to find the optimal value of K in KNN? \n",
    "\n",
    "[[403]](#ref403) (towardsdatasience.com, How to find the optimal value of K in KNN? Nov 2023)\n",
    "\n"
   ]
  },
  {
   "cell_type": "code",
   "execution_count": 35,
   "id": "791a1ac4",
   "metadata": {},
   "outputs": [],
   "source": [
    "knn_value = round(math.sqrt((len(iris.index))))"
   ]
  },
  {
   "cell_type": "code",
   "execution_count": 36,
   "id": "57b9fc1f",
   "metadata": {
    "scrolled": true
   },
   "outputs": [
    {
     "name": "stdout",
     "output_type": "stream",
     "text": [
      "KNeighborsClassifier(n_neighbors=12)\n"
     ]
    }
   ],
   "source": [
    "# Create and fit a KNeighborsClassifier model\n",
    "knn = KNeighborsClassifier(n_neighbors=knn_value)\n",
    "knn.fit(X_train, y_train)\n",
    "print(knn.fit(X_train, y_train))"
   ]
  },
  {
   "cell_type": "code",
   "execution_count": 37,
   "id": "f1562b76",
   "metadata": {},
   "outputs": [
    {
     "data": {
      "text/plain": [
       "97.77777777777777"
      ]
     },
     "execution_count": 37,
     "metadata": {},
     "output_type": "execute_result"
    }
   ],
   "source": [
    "accuracy = (knn.score(X_test, y_test))*100\n",
    "accuracy"
   ]
  },
  {
   "cell_type": "markdown",
   "id": "6ac3c6d4",
   "metadata": {},
   "source": [
    "### Results\n",
    "\n",
    "When the code evaluates on the testing set, it is does so with a mixture of all three classes. The code then uses its knowledge of each class to predict a class. As a result, the accuracy of the code is a measure of its ability to correctly classify all three varieties of flowers, not just Iris setosa.\n",
    "\n",
    "[[404]](#ref404) (towardsdatasience.com, Importance of Distance Metrics in Machine Learning Modelling, Nov 2023)\n",
    "\n",
    "In this case the model can predict a flowers variety or `class` with 97.77% accuracy.\n",
    "\n",
    "\n",
    "### Results for setosa\n",
    "\n",
    "Lets look at the results more closely to see how accuratley setosa can be predicted. For this we can use the sikitlearn `classification_report()` function. It will output a report of our models performance by giving scores for `precision`, `recall`, `F1-score`, and `support` for each class.\n",
    "\n",
    "    Precision is the proportion of positive predictions that are correct\n",
    "\n",
    "    Recall is the proportion of actual positives that are correctly identified\n",
    "\n",
    "    F1-score is a measure of the balance between precision and recall\n",
    "\n",
    "    Support is the number of actual occurrences of each class in the dataset\n",
    "\n",
    "[[405]](#ref405) (kaggle.com/, kNN Classifier Tutorial, Nov 2023)"
   ]
  },
  {
   "cell_type": "code",
   "execution_count": 38,
   "id": "74297a1b",
   "metadata": {},
   "outputs": [],
   "source": [
    "y_pred = knn.predict(X_test)"
   ]
  },
  {
   "cell_type": "code",
   "execution_count": 39,
   "id": "2d6b37a6",
   "metadata": {},
   "outputs": [
    {
     "name": "stdout",
     "output_type": "stream",
     "text": [
      "              precision    recall  f1-score   support\n",
      "\n",
      "      setosa       1.00      1.00      1.00        10\n",
      "  versicolor       1.00      0.93      0.97        15\n",
      "   virginica       0.95      1.00      0.98        20\n",
      "\n",
      "    accuracy                           0.98        45\n",
      "   macro avg       0.98      0.98      0.98        45\n",
      "weighted avg       0.98      0.98      0.98        45\n",
      "\n"
     ]
    }
   ],
   "source": [
    "#https://medium.com/@mehtashubh1029/iris-flower-classification-using-knn-1eef6e7f3f84\n",
    "#The classification_report function builds a text report showing the main classification metrics. \n",
    "#https://scikit-learn.org/stable/modules/model_evaluation.html#classification-report\n",
    "print(classification_report(y_pred, y_test))"
   ]
  },
  {
   "cell_type": "markdown",
   "id": "a27c07b6",
   "metadata": {},
   "source": [
    "### Conclusions\n",
    "\n",
    "Using sikit-learn on the iris dataset we predicted a flowers variety or `class` with 97.77% accuracy. More importantly for this exercise we predicted `setosa` with 100% accuracy."
   ]
  },
  {
   "cell_type": "markdown",
   "id": "35d79141",
   "metadata": {},
   "source": [
    "### References\n",
    "[401]<a id='ref401'></a>  (scikit-learn.org, Getting Started, Nov 2023) https://scikit-learn.org/stable/getting_started.html\n",
    "\n",
    "[402]<a id='ref402'></a>  (ibm.com, What is the k-nearest neighbors algorithm? Nov 2023) retreived from: https://www.ibm.com/topics/knn\n",
    "\n",
    "[403]<a id='ref403'></a>  (towardsdatasience.com, How to find the optimal value of K in KNN? Nov 2023) retreived from: https://towardsdatascience.com/how-to-find-the-optimal-value-of-k-in-knn-35d936e554eb\n",
    "\n",
    "[404]<a id='ref404'></a>  (towardsdatasience.com, Importance of Distance Metrics in Machine Learning Modelling, Nov 2023) retreived from:  https://towardsdatascience.com/importance-of-distance-metrics-in-machine-learning-modelling-e51395ffe60d\n",
    "\n",
    "[405]<a id='ref405'></a>  (kaggle.com/, kNN Classifier Tutorial, Nov 2023) retreived from: https://www.kaggle.com/code/prashant111/knn-classifier-tutorial"
   ]
  },
  {
   "cell_type": "markdown",
   "id": "e8aec2d0",
   "metadata": {},
   "source": [
    "### END task4\n",
    "\n",
    "[Back to top of notebook](#Task-4)"
   ]
  }
 ],
 "metadata": {
  "kernelspec": {
   "display_name": "Python 3 (ipykernel)",
   "language": "python",
   "name": "python3"
  },
  "language_info": {
   "codemirror_mode": {
    "name": "ipython",
    "version": 3
   },
   "file_extension": ".py",
   "mimetype": "text/x-python",
   "name": "python",
   "nbconvert_exporter": "python",
   "pygments_lexer": "ipython3",
   "version": "3.9.18"
  }
 },
 "nbformat": 4,
 "nbformat_minor": 5
}
