{
 "cells": [
  {
   "cell_type": "markdown",
   "id": "f7b3ef46",
   "metadata": {},
   "source": [
    "Topic 1: Setup"
   ]
  },
  {
   "cell_type": "markdown",
   "id": "3ba1356f",
   "metadata": {},
   "source": [
    "# Task 1\n",
    "\n",
    "Part of assignments for the Machine Learning and Statistics modulel of the Higher Diploma in Science in Data Analytics course at ATU 2023\n",
    "\n",
    "Winter 23/24\n",
    "\n",
    "\n",
    "Author: Jarlath Scarry"
   ]
  },
  {
   "cell_type": "markdown",
   "id": "2400e08c",
   "metadata": {},
   "source": [
    "## Square roots\n",
    "\n",
    "> Square roots are difficult to calculate. In Python, you typically use the power operator (a double asterisk) or a package such as `math`. In this task, you should write a function `sqrt(x)` to approximate the square root of a floating point number x without using the power operator or a package.\n",
    "\n",
    "> Rather, you should use the Newton’s method. Start with an initial guess for the square root called $z0$. You then repeatedly improve it using the following formula, until the difference between some previous guess $zi$ and the next $z{i+1}$ is less than some threshold, say 0.01\n",
    "\n",
    "$$z_{i+1} = z_i - \\frac{z_i  ×  z_i - x}{2z_i}$$\n",
    "\n",
    "[[101]](#ref101) (MACHINE LEARNING AND STATISTICS course material)"
   ]
  },
  {
   "cell_type": "markdown",
   "id": "707e7d46",
   "metadata": {},
   "source": [
    "###  Ways to find square root in python. \n",
    "\n",
    "The easiest way is to use a special operator. One such method is to call the `math` library and use `math.sqrt(x)`. Another is to raise the number to the power of a half. An easy way to do this in python is `x**0.5`. See an example of both of these two methods below.\n",
    "In this exercise we will to do this without special operators but instead using Newtons method. \n"
   ]
  },
  {
   "cell_type": "markdown",
   "id": "99cb1e41",
   "metadata": {},
   "source": [
    "### Code examples\n",
    "\n",
    "Eaxmples of finding square root using special operators"
   ]
  },
  {
   "cell_type": "code",
   "execution_count": 1,
   "id": "72447e2b",
   "metadata": {},
   "outputs": [
    {
     "data": {
      "text/plain": [
       "4.0"
      ]
     },
     "execution_count": 1,
     "metadata": {},
     "output_type": "execute_result"
    }
   ],
   "source": [
    "import math\n",
    "x = 16\n",
    "math.sqrt(x)"
   ]
  },
  {
   "cell_type": "code",
   "execution_count": 2,
   "id": "403ad7ae",
   "metadata": {},
   "outputs": [
    {
     "data": {
      "text/plain": [
       "2.0"
      ]
     },
     "execution_count": 2,
     "metadata": {},
     "output_type": "execute_result"
    }
   ],
   "source": [
    "4**0.5"
   ]
  },
  {
   "cell_type": "markdown",
   "id": "bb6b5007",
   "metadata": {},
   "source": [
    "### Coding Newtons method\n",
    "Lets put this formula into code. If we take x as the number and our output should be the Square root of x\n",
    "\n",
    "$$z_{i+1} = z_i - \\frac{z_i  ×  z_i - x}{2z_i}$$\n",
    "\n"
   ]
  },
  {
   "cell_type": "markdown",
   "id": "fd6b5320",
   "metadata": {},
   "source": [
    "### Start with a guess\n",
    "We start by making a guess at the result. Lets take `z = 2` as our initial guess for the result when trying to calculate $\\sqrt{16}$. If we run the code below, it uses our guess and calculates out an extimation of the $\\sqrt{16}$.\n",
    "\n",
    "When we run the code below we get an estimation of the answer. Each time we re-run it we get a better estimation of the result.\n",
    "**If we re-running this piece of code 6 times we have a good result.**"
   ]
  },
  {
   "cell_type": "code",
   "execution_count": 3,
   "id": "22311c7b",
   "metadata": {},
   "outputs": [],
   "source": [
    "# The number that we want to calculate the square root of \n",
    "x= 16\n",
    "# Our initial guess for the square root. Lets set it as a floating point number, since our result may not be a whole number. \n",
    "z = 2.0"
   ]
  },
  {
   "cell_type": "code",
   "execution_count": 4,
   "id": "aacd1759",
   "metadata": {},
   "outputs": [
    {
     "data": {
      "text/plain": [
       "5.0"
      ]
     },
     "execution_count": 4,
     "metadata": {},
     "output_type": "execute_result"
    }
   ],
   "source": [
    "# Newtons method for a better approximation \n",
    "#Each time we run this line of code it calculated a better result. \n",
    "#If we re-running this piece of code 6 times we have a good estimation of the answer.\n",
    "#results:\n",
    "         #1st = 5\n",
    "         #2nd = 4.1\n",
    "         #3rd = 4.001219512195122\n",
    "         #4th = 4.0000001858445895\n",
    "         #5th = 4.000000000000004\n",
    "         #6th = 4\n",
    "z = z -(((z*z)-x)/ (2*z))\n",
    "\n",
    "z"
   ]
  },
  {
   "cell_type": "markdown",
   "id": "1a596167",
   "metadata": {},
   "source": [
    "### Iterative method \n",
    "\n",
    "This is an iterative method. Rather than manually re-running the code 6 times until we get a good result we can set it to itterate a number of times. **Lets code this to loop 10 times which should give a reasonable result in most cases.** The example below shows Ten iterations of the calculation of $\\sqrt{15}$."
   ]
  },
  {
   "cell_type": "code",
   "execution_count": 5,
   "id": "f29d125a",
   "metadata": {},
   "outputs": [],
   "source": [
    "#Put the code into a loop to run 10 times\n",
    "def sqrt(x):\n",
    "    #initial guess for the square root\n",
    "    z = x/4.0\n",
    "    #Loop newtons method 10 times until we get a good approximation.\n",
    "    for i in range(10):\n",
    "        # Newtons method for a better approximation\n",
    "        z = z -(((z*z)-x)/ (2*z))\n",
    "        print(z)\n",
    "        print ((z*z)-x)\n",
    "    # z should now be a good approximation\n",
    "    return z   \n",
    "\n"
   ]
  },
  {
   "cell_type": "code",
   "execution_count": 6,
   "id": "231ebabc",
   "metadata": {
    "scrolled": true
   },
   "outputs": [
    {
     "name": "stdout",
     "output_type": "stream",
     "text": [
      "3.875\n",
      "0.015625\n",
      "3.872983870967742\n",
      "4.06477627556967e-06\n",
      "3.8729833462074525\n",
      "2.7711166694643907e-13\n",
      "3.8729833462074166\n",
      "-1.7763568394002505e-15\n",
      "3.872983346207417\n",
      "1.7763568394002505e-15\n",
      "3.8729833462074166\n",
      "-1.7763568394002505e-15\n",
      "3.872983346207417\n",
      "1.7763568394002505e-15\n",
      "3.8729833462074166\n",
      "-1.7763568394002505e-15\n",
      "3.872983346207417\n",
      "1.7763568394002505e-15\n",
      "3.8729833462074166\n",
      "-1.7763568394002505e-15\n"
     ]
    },
    {
     "data": {
      "text/plain": [
       "3.8729833462074166"
      ]
     },
     "execution_count": 6,
     "metadata": {},
     "output_type": "execute_result"
    }
   ],
   "source": [
    "#call the function and test it on 15. \n",
    "#I also print the results and the calue of ((z*z)-x) which we will look at later.\n",
    "result1 = sqrt(15)\n",
    "result1"
   ]
  },
  {
   "cell_type": "code",
   "execution_count": 7,
   "id": "7856b3e9",
   "metadata": {
    "scrolled": true
   },
   "outputs": [
    {
     "data": {
      "text/plain": [
       "3.872983346207417"
      ]
     },
     "execution_count": 7,
     "metadata": {},
     "output_type": "execute_result"
    }
   ],
   "source": [
    "#check pythons value for square root of 15 \n",
    "result2 = 15**0.5\n",
    "result2"
   ]
  },
  {
   "cell_type": "markdown",
   "id": "6c7eb980",
   "metadata": {},
   "source": [
    "### Result\n",
    "\n",
    "After running the code we get a result from the `sqrt(15)` function. $\\sqrt{15}$ is returned as  `3.8729833462074166`. This compares closely to the result when raising to the power of 0.5 method.\n",
    "\n",
    "`sqrt(15)` function result = 3.8729833462074166\n",
    "\n",
    "`15**0.5`           result = 3.872983346207417 "
   ]
  },
  {
   "cell_type": "markdown",
   "id": "a0a9b378",
   "metadata": {},
   "source": [
    "### Improving the code to be more efficent\n",
    "  \n",
    "#### Negative numbers\n",
    "\n",
    "The square root of negative numbers is undefined. This code will continue to loop if a negative number is input. Any number squared will produce a positive number, so there is no true square root of a negative number. We could improve the code by limiting the input to positive numbers. Then with an `if` return the message \"undefined\" if a negative number is input.\n",
    "\n",
    "#### Iterations \n",
    "\n",
    "This `sqrt()` code is somewhat inefficent. It will repeat the loop 10 times even if a good answer is achieved after the first loop. \n",
    "\n",
    "The calculation  𝑧2−𝑥 is exactly  𝑧𝑒𝑟𝑜 when  𝑧 is the square root of  𝑥. It is greater than zero when  𝑧 is too big. It is less than  𝑧𝑒𝑟𝑜 when  𝑧 is too small. Therfore by using (𝑥2−𝑥) as a cost function, and using it to stop the loop when it approaches zero, we can make the code more efficent. This improvment will stop code when a \"good\" result is achieved, rather than running the 10 loops\n",
    "\n"
   ]
  },
  {
   "cell_type": "code",
   "execution_count": 8,
   "id": "d2bea490",
   "metadata": {},
   "outputs": [],
   "source": [
    "def sqrt(x):\n",
    "    #initial guess for the square root\n",
    "    z = x/4.0\n",
    "    #Loop while ((z*z)-x) is not very colse to 0\n",
    "    while ((z*z)-x)>1e-10 or ((z*z)-x)< -1e-10:\n",
    "        print(z)\n",
    "        # Newtons method for a better approximation\n",
    "        z = z -(((z*z)-x)/ (2*z))\n",
    "    # z should now be a good approximation\n",
    "    return z  \n"
   ]
  },
  {
   "cell_type": "code",
   "execution_count": 9,
   "id": "6d8c145d",
   "metadata": {
    "scrolled": true
   },
   "outputs": [
    {
     "name": "stdout",
     "output_type": "stream",
     "text": [
      "1.0\n",
      "2.5\n",
      "2.05\n",
      "2.000609756097561\n",
      "2.0000000929222947\n"
     ]
    },
    {
     "data": {
      "text/plain": [
       "2.000000000000002"
      ]
     },
     "execution_count": 9,
     "metadata": {},
     "output_type": "execute_result"
    }
   ],
   "source": [
    "#square root of 15. Result is very close to python 15**0.5 method.\n",
    "sqrt(4)"
   ]
  },
  {
   "cell_type": "markdown",
   "id": "989a8762",
   "metadata": {},
   "source": [
    "### Conclusion\n",
    "\n",
    "In this case calculating the square root of 4 stopped after 6 iterations because we were had achieved a \"good\" result. This reduces the \"cost\" from 10 to 6.\n"
   ]
  },
  {
   "cell_type": "markdown",
   "id": "b9d3a3eb",
   "metadata": {},
   "source": [
    "### Acknowledgment\n",
    "\n",
    "Acknowledgment to Lecturer  Ian McLoughlin for guidance through the 23-24 MACHINE LEARNING AND STATISTICS module. For lecture notes and code."
   ]
  },
  {
   "cell_type": "markdown",
   "id": "0f799645",
   "metadata": {},
   "source": [
    "### References\n",
    "\n",
    "[101]<a id='ref101'></a>  MACHINE LEARNING AND STATISTICS course material. Task 1 - Square roots "
   ]
  },
  {
   "cell_type": "markdown",
   "id": "cf93e3e0",
   "metadata": {},
   "source": [
    "## End task1\n",
    "\n",
    "[Back to top of notebook](#Task-1)"
   ]
  }
 ],
 "metadata": {
  "kernelspec": {
   "display_name": "Python 3 (ipykernel)",
   "language": "python",
   "name": "python3"
  },
  "language_info": {
   "codemirror_mode": {
    "name": "ipython",
    "version": 3
   },
   "file_extension": ".py",
   "mimetype": "text/x-python",
   "name": "python",
   "nbconvert_exporter": "python",
   "pygments_lexer": "ipython3",
   "version": "3.9.18"
  }
 },
 "nbformat": 4,
 "nbformat_minor": 5
}
