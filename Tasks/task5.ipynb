{
 "cells": [
  {
   "cell_type": "markdown",
   "id": "30cab0f5",
   "metadata": {},
   "source": [
    "Topic 5: Preprocessing"
   ]
  },
  {
   "cell_type": "markdown",
   "id": "6d2a78d6",
   "metadata": {},
   "source": [
    "<a id='ref605'></a>\n",
    "# Task 5\n",
    "\n",
    "Part of assignments for the Machine Learning and Statistics modulel of the Higher Diploma in Science in Data Analytics course at ATU 2023\n",
    "\n",
    "Winter 23/24\n",
    "\n",
    "Author: Jarlath Scarry"
   ]
  },
  {
   "cell_type": "markdown",
   "id": "7ac0c854",
   "metadata": {},
   "source": [
    "### Preprocessing\n",
    "\n",
    ">Perform Principal Component Analysis on the iris data set reducing the number of dimensions to two. Explain the purpose\n",
    "of the analysis and your results."
   ]
  },
  {
   "cell_type": "markdown",
   "id": "e7aa90d5",
   "metadata": {},
   "source": [
    "### Aim\n",
    "\n",
    "aim"
   ]
  },
  {
   "cell_type": "code",
   "execution_count": null,
   "id": "1d835248",
   "metadata": {},
   "outputs": [],
   "source": []
  },
  {
   "cell_type": "code",
   "execution_count": null,
   "id": "8641f495",
   "metadata": {},
   "outputs": [],
   "source": []
  },
  {
   "cell_type": "markdown",
   "id": "99c066c8",
   "metadata": {},
   "source": [
    "### Content\n",
    "\n",
    "content\n",
    "\n",
    "  [501](#ref501) (ref501)"
   ]
  },
  {
   "cell_type": "code",
   "execution_count": null,
   "id": "9d56ff93",
   "metadata": {},
   "outputs": [],
   "source": []
  },
  {
   "cell_type": "code",
   "execution_count": null,
   "id": "5937e9ab",
   "metadata": {},
   "outputs": [],
   "source": []
  },
  {
   "cell_type": "markdown",
   "id": "a27c07b6",
   "metadata": {},
   "source": [
    "### Conclusions\n",
    "\n",
    "conclusions"
   ]
  }
 ],
 "metadata": {
  "kernelspec": {
   "display_name": "Python 3 (ipykernel)",
   "language": "python",
   "name": "python3"
  },
  "language_info": {
   "codemirror_mode": {
    "name": "ipython",
    "version": 3
   },
   "file_extension": ".py",
   "mimetype": "text/x-python",
   "name": "python",
   "nbconvert_exporter": "python",
   "pygments_lexer": "ipython3",
   "version": "3.9.18"
  }
 },
 "nbformat": 4,
 "nbformat_minor": 5
}
